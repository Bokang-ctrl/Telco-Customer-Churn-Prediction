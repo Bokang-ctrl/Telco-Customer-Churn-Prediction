{
  "cells": [
    {
      "cell_type": "code",
      "execution_count": 4,
      "metadata": {
        "id": "okRrTzWsdrjT"
      },
      "outputs": [],
      "source": [
        "# importing the necessary packages\n",
        "import pandas as pd\n",
        "import numpy as np\n",
        "import seaborn as sns\n",
        "import matplotlib.pyplot as plt"
      ]
    },
    {
      "cell_type": "code",
      "execution_count": 5,
      "metadata": {
        "colab": {
          "base_uri": "https://localhost:8080/",
          "height": 342
        },
        "id": "7uvDd24llWVx",
        "outputId": "7d4ed6e0-41e8-46f7-8c6d-cf06dd9e2286"
      },
      "outputs": [
        {
          "output_type": "execute_result",
          "data": {
            "text/plain": [
              "   customerID  gender  SeniorCitizen Partner Dependents  tenure PhoneService  \\\n",
              "0  7590-VHVEG  Female              0     Yes         No       1           No   \n",
              "1  5575-GNVDE    Male              0      No         No      34          Yes   \n",
              "2  3668-QPYBK    Male              0      No         No       2          Yes   \n",
              "3  7795-CFOCW    Male              0      No         No      45           No   \n",
              "4  9237-HQITU  Female              0      No         No       2          Yes   \n",
              "\n",
              "      MultipleLines InternetService OnlineSecurity  ... DeviceProtection  \\\n",
              "0  No phone service             DSL             No  ...               No   \n",
              "1                No             DSL            Yes  ...              Yes   \n",
              "2                No             DSL            Yes  ...               No   \n",
              "3  No phone service             DSL            Yes  ...              Yes   \n",
              "4                No     Fiber optic             No  ...               No   \n",
              "\n",
              "  TechSupport StreamingTV StreamingMovies        Contract PaperlessBilling  \\\n",
              "0          No          No              No  Month-to-month              Yes   \n",
              "1          No          No              No        One year               No   \n",
              "2          No          No              No  Month-to-month              Yes   \n",
              "3         Yes          No              No        One year               No   \n",
              "4          No          No              No  Month-to-month              Yes   \n",
              "\n",
              "               PaymentMethod MonthlyCharges  TotalCharges Churn  \n",
              "0           Electronic check          29.85         29.85    No  \n",
              "1               Mailed check          56.95        1889.5    No  \n",
              "2               Mailed check          53.85        108.15   Yes  \n",
              "3  Bank transfer (automatic)          42.30       1840.75    No  \n",
              "4           Electronic check          70.70        151.65   Yes  \n",
              "\n",
              "[5 rows x 21 columns]"
            ],
            "text/html": [
              "\n",
              "  <div id=\"df-8bb6d13a-d4dc-4ceb-9fcc-97ea24a1393f\" class=\"colab-df-container\">\n",
              "    <div>\n",
              "<style scoped>\n",
              "    .dataframe tbody tr th:only-of-type {\n",
              "        vertical-align: middle;\n",
              "    }\n",
              "\n",
              "    .dataframe tbody tr th {\n",
              "        vertical-align: top;\n",
              "    }\n",
              "\n",
              "    .dataframe thead th {\n",
              "        text-align: right;\n",
              "    }\n",
              "</style>\n",
              "<table border=\"1\" class=\"dataframe\">\n",
              "  <thead>\n",
              "    <tr style=\"text-align: right;\">\n",
              "      <th></th>\n",
              "      <th>customerID</th>\n",
              "      <th>gender</th>\n",
              "      <th>SeniorCitizen</th>\n",
              "      <th>Partner</th>\n",
              "      <th>Dependents</th>\n",
              "      <th>tenure</th>\n",
              "      <th>PhoneService</th>\n",
              "      <th>MultipleLines</th>\n",
              "      <th>InternetService</th>\n",
              "      <th>OnlineSecurity</th>\n",
              "      <th>...</th>\n",
              "      <th>DeviceProtection</th>\n",
              "      <th>TechSupport</th>\n",
              "      <th>StreamingTV</th>\n",
              "      <th>StreamingMovies</th>\n",
              "      <th>Contract</th>\n",
              "      <th>PaperlessBilling</th>\n",
              "      <th>PaymentMethod</th>\n",
              "      <th>MonthlyCharges</th>\n",
              "      <th>TotalCharges</th>\n",
              "      <th>Churn</th>\n",
              "    </tr>\n",
              "  </thead>\n",
              "  <tbody>\n",
              "    <tr>\n",
              "      <th>0</th>\n",
              "      <td>7590-VHVEG</td>\n",
              "      <td>Female</td>\n",
              "      <td>0</td>\n",
              "      <td>Yes</td>\n",
              "      <td>No</td>\n",
              "      <td>1</td>\n",
              "      <td>No</td>\n",
              "      <td>No phone service</td>\n",
              "      <td>DSL</td>\n",
              "      <td>No</td>\n",
              "      <td>...</td>\n",
              "      <td>No</td>\n",
              "      <td>No</td>\n",
              "      <td>No</td>\n",
              "      <td>No</td>\n",
              "      <td>Month-to-month</td>\n",
              "      <td>Yes</td>\n",
              "      <td>Electronic check</td>\n",
              "      <td>29.85</td>\n",
              "      <td>29.85</td>\n",
              "      <td>No</td>\n",
              "    </tr>\n",
              "    <tr>\n",
              "      <th>1</th>\n",
              "      <td>5575-GNVDE</td>\n",
              "      <td>Male</td>\n",
              "      <td>0</td>\n",
              "      <td>No</td>\n",
              "      <td>No</td>\n",
              "      <td>34</td>\n",
              "      <td>Yes</td>\n",
              "      <td>No</td>\n",
              "      <td>DSL</td>\n",
              "      <td>Yes</td>\n",
              "      <td>...</td>\n",
              "      <td>Yes</td>\n",
              "      <td>No</td>\n",
              "      <td>No</td>\n",
              "      <td>No</td>\n",
              "      <td>One year</td>\n",
              "      <td>No</td>\n",
              "      <td>Mailed check</td>\n",
              "      <td>56.95</td>\n",
              "      <td>1889.5</td>\n",
              "      <td>No</td>\n",
              "    </tr>\n",
              "    <tr>\n",
              "      <th>2</th>\n",
              "      <td>3668-QPYBK</td>\n",
              "      <td>Male</td>\n",
              "      <td>0</td>\n",
              "      <td>No</td>\n",
              "      <td>No</td>\n",
              "      <td>2</td>\n",
              "      <td>Yes</td>\n",
              "      <td>No</td>\n",
              "      <td>DSL</td>\n",
              "      <td>Yes</td>\n",
              "      <td>...</td>\n",
              "      <td>No</td>\n",
              "      <td>No</td>\n",
              "      <td>No</td>\n",
              "      <td>No</td>\n",
              "      <td>Month-to-month</td>\n",
              "      <td>Yes</td>\n",
              "      <td>Mailed check</td>\n",
              "      <td>53.85</td>\n",
              "      <td>108.15</td>\n",
              "      <td>Yes</td>\n",
              "    </tr>\n",
              "    <tr>\n",
              "      <th>3</th>\n",
              "      <td>7795-CFOCW</td>\n",
              "      <td>Male</td>\n",
              "      <td>0</td>\n",
              "      <td>No</td>\n",
              "      <td>No</td>\n",
              "      <td>45</td>\n",
              "      <td>No</td>\n",
              "      <td>No phone service</td>\n",
              "      <td>DSL</td>\n",
              "      <td>Yes</td>\n",
              "      <td>...</td>\n",
              "      <td>Yes</td>\n",
              "      <td>Yes</td>\n",
              "      <td>No</td>\n",
              "      <td>No</td>\n",
              "      <td>One year</td>\n",
              "      <td>No</td>\n",
              "      <td>Bank transfer (automatic)</td>\n",
              "      <td>42.30</td>\n",
              "      <td>1840.75</td>\n",
              "      <td>No</td>\n",
              "    </tr>\n",
              "    <tr>\n",
              "      <th>4</th>\n",
              "      <td>9237-HQITU</td>\n",
              "      <td>Female</td>\n",
              "      <td>0</td>\n",
              "      <td>No</td>\n",
              "      <td>No</td>\n",
              "      <td>2</td>\n",
              "      <td>Yes</td>\n",
              "      <td>No</td>\n",
              "      <td>Fiber optic</td>\n",
              "      <td>No</td>\n",
              "      <td>...</td>\n",
              "      <td>No</td>\n",
              "      <td>No</td>\n",
              "      <td>No</td>\n",
              "      <td>No</td>\n",
              "      <td>Month-to-month</td>\n",
              "      <td>Yes</td>\n",
              "      <td>Electronic check</td>\n",
              "      <td>70.70</td>\n",
              "      <td>151.65</td>\n",
              "      <td>Yes</td>\n",
              "    </tr>\n",
              "  </tbody>\n",
              "</table>\n",
              "<p>5 rows × 21 columns</p>\n",
              "</div>\n",
              "    <div class=\"colab-df-buttons\">\n",
              "\n",
              "  <div class=\"colab-df-container\">\n",
              "    <button class=\"colab-df-convert\" onclick=\"convertToInteractive('df-8bb6d13a-d4dc-4ceb-9fcc-97ea24a1393f')\"\n",
              "            title=\"Convert this dataframe to an interactive table.\"\n",
              "            style=\"display:none;\">\n",
              "\n",
              "  <svg xmlns=\"http://www.w3.org/2000/svg\" height=\"24px\" viewBox=\"0 -960 960 960\">\n",
              "    <path d=\"M120-120v-720h720v720H120Zm60-500h600v-160H180v160Zm220 220h160v-160H400v160Zm0 220h160v-160H400v160ZM180-400h160v-160H180v160Zm440 0h160v-160H620v160ZM180-180h160v-160H180v160Zm440 0h160v-160H620v160Z\"/>\n",
              "  </svg>\n",
              "    </button>\n",
              "\n",
              "  <style>\n",
              "    .colab-df-container {\n",
              "      display:flex;\n",
              "      gap: 12px;\n",
              "    }\n",
              "\n",
              "    .colab-df-convert {\n",
              "      background-color: #E8F0FE;\n",
              "      border: none;\n",
              "      border-radius: 50%;\n",
              "      cursor: pointer;\n",
              "      display: none;\n",
              "      fill: #1967D2;\n",
              "      height: 32px;\n",
              "      padding: 0 0 0 0;\n",
              "      width: 32px;\n",
              "    }\n",
              "\n",
              "    .colab-df-convert:hover {\n",
              "      background-color: #E2EBFA;\n",
              "      box-shadow: 0px 1px 2px rgba(60, 64, 67, 0.3), 0px 1px 3px 1px rgba(60, 64, 67, 0.15);\n",
              "      fill: #174EA6;\n",
              "    }\n",
              "\n",
              "    .colab-df-buttons div {\n",
              "      margin-bottom: 4px;\n",
              "    }\n",
              "\n",
              "    [theme=dark] .colab-df-convert {\n",
              "      background-color: #3B4455;\n",
              "      fill: #D2E3FC;\n",
              "    }\n",
              "\n",
              "    [theme=dark] .colab-df-convert:hover {\n",
              "      background-color: #434B5C;\n",
              "      box-shadow: 0px 1px 3px 1px rgba(0, 0, 0, 0.15);\n",
              "      filter: drop-shadow(0px 1px 2px rgba(0, 0, 0, 0.3));\n",
              "      fill: #FFFFFF;\n",
              "    }\n",
              "  </style>\n",
              "\n",
              "    <script>\n",
              "      const buttonEl =\n",
              "        document.querySelector('#df-8bb6d13a-d4dc-4ceb-9fcc-97ea24a1393f button.colab-df-convert');\n",
              "      buttonEl.style.display =\n",
              "        google.colab.kernel.accessAllowed ? 'block' : 'none';\n",
              "\n",
              "      async function convertToInteractive(key) {\n",
              "        const element = document.querySelector('#df-8bb6d13a-d4dc-4ceb-9fcc-97ea24a1393f');\n",
              "        const dataTable =\n",
              "          await google.colab.kernel.invokeFunction('convertToInteractive',\n",
              "                                                    [key], {});\n",
              "        if (!dataTable) return;\n",
              "\n",
              "        const docLinkHtml = 'Like what you see? Visit the ' +\n",
              "          '<a target=\"_blank\" href=https://colab.research.google.com/notebooks/data_table.ipynb>data table notebook</a>'\n",
              "          + ' to learn more about interactive tables.';\n",
              "        element.innerHTML = '';\n",
              "        dataTable['output_type'] = 'display_data';\n",
              "        await google.colab.output.renderOutput(dataTable, element);\n",
              "        const docLink = document.createElement('div');\n",
              "        docLink.innerHTML = docLinkHtml;\n",
              "        element.appendChild(docLink);\n",
              "      }\n",
              "    </script>\n",
              "  </div>\n",
              "\n",
              "\n",
              "<div id=\"df-00952c9c-ad24-4003-a61c-d1b84199fb93\">\n",
              "  <button class=\"colab-df-quickchart\" onclick=\"quickchart('df-00952c9c-ad24-4003-a61c-d1b84199fb93')\"\n",
              "            title=\"Suggest charts\"\n",
              "            style=\"display:none;\">\n",
              "\n",
              "<svg xmlns=\"http://www.w3.org/2000/svg\" height=\"24px\"viewBox=\"0 0 24 24\"\n",
              "     width=\"24px\">\n",
              "    <g>\n",
              "        <path d=\"M19 3H5c-1.1 0-2 .9-2 2v14c0 1.1.9 2 2 2h14c1.1 0 2-.9 2-2V5c0-1.1-.9-2-2-2zM9 17H7v-7h2v7zm4 0h-2V7h2v10zm4 0h-2v-4h2v4z\"/>\n",
              "    </g>\n",
              "</svg>\n",
              "  </button>\n",
              "\n",
              "<style>\n",
              "  .colab-df-quickchart {\n",
              "      --bg-color: #E8F0FE;\n",
              "      --fill-color: #1967D2;\n",
              "      --hover-bg-color: #E2EBFA;\n",
              "      --hover-fill-color: #174EA6;\n",
              "      --disabled-fill-color: #AAA;\n",
              "      --disabled-bg-color: #DDD;\n",
              "  }\n",
              "\n",
              "  [theme=dark] .colab-df-quickchart {\n",
              "      --bg-color: #3B4455;\n",
              "      --fill-color: #D2E3FC;\n",
              "      --hover-bg-color: #434B5C;\n",
              "      --hover-fill-color: #FFFFFF;\n",
              "      --disabled-bg-color: #3B4455;\n",
              "      --disabled-fill-color: #666;\n",
              "  }\n",
              "\n",
              "  .colab-df-quickchart {\n",
              "    background-color: var(--bg-color);\n",
              "    border: none;\n",
              "    border-radius: 50%;\n",
              "    cursor: pointer;\n",
              "    display: none;\n",
              "    fill: var(--fill-color);\n",
              "    height: 32px;\n",
              "    padding: 0;\n",
              "    width: 32px;\n",
              "  }\n",
              "\n",
              "  .colab-df-quickchart:hover {\n",
              "    background-color: var(--hover-bg-color);\n",
              "    box-shadow: 0 1px 2px rgba(60, 64, 67, 0.3), 0 1px 3px 1px rgba(60, 64, 67, 0.15);\n",
              "    fill: var(--button-hover-fill-color);\n",
              "  }\n",
              "\n",
              "  .colab-df-quickchart-complete:disabled,\n",
              "  .colab-df-quickchart-complete:disabled:hover {\n",
              "    background-color: var(--disabled-bg-color);\n",
              "    fill: var(--disabled-fill-color);\n",
              "    box-shadow: none;\n",
              "  }\n",
              "\n",
              "  .colab-df-spinner {\n",
              "    border: 2px solid var(--fill-color);\n",
              "    border-color: transparent;\n",
              "    border-bottom-color: var(--fill-color);\n",
              "    animation:\n",
              "      spin 1s steps(1) infinite;\n",
              "  }\n",
              "\n",
              "  @keyframes spin {\n",
              "    0% {\n",
              "      border-color: transparent;\n",
              "      border-bottom-color: var(--fill-color);\n",
              "      border-left-color: var(--fill-color);\n",
              "    }\n",
              "    20% {\n",
              "      border-color: transparent;\n",
              "      border-left-color: var(--fill-color);\n",
              "      border-top-color: var(--fill-color);\n",
              "    }\n",
              "    30% {\n",
              "      border-color: transparent;\n",
              "      border-left-color: var(--fill-color);\n",
              "      border-top-color: var(--fill-color);\n",
              "      border-right-color: var(--fill-color);\n",
              "    }\n",
              "    40% {\n",
              "      border-color: transparent;\n",
              "      border-right-color: var(--fill-color);\n",
              "      border-top-color: var(--fill-color);\n",
              "    }\n",
              "    60% {\n",
              "      border-color: transparent;\n",
              "      border-right-color: var(--fill-color);\n",
              "    }\n",
              "    80% {\n",
              "      border-color: transparent;\n",
              "      border-right-color: var(--fill-color);\n",
              "      border-bottom-color: var(--fill-color);\n",
              "    }\n",
              "    90% {\n",
              "      border-color: transparent;\n",
              "      border-bottom-color: var(--fill-color);\n",
              "    }\n",
              "  }\n",
              "</style>\n",
              "\n",
              "  <script>\n",
              "    async function quickchart(key) {\n",
              "      const quickchartButtonEl =\n",
              "        document.querySelector('#' + key + ' button');\n",
              "      quickchartButtonEl.disabled = true;  // To prevent multiple clicks.\n",
              "      quickchartButtonEl.classList.add('colab-df-spinner');\n",
              "      try {\n",
              "        const charts = await google.colab.kernel.invokeFunction(\n",
              "            'suggestCharts', [key], {});\n",
              "      } catch (error) {\n",
              "        console.error('Error during call to suggestCharts:', error);\n",
              "      }\n",
              "      quickchartButtonEl.classList.remove('colab-df-spinner');\n",
              "      quickchartButtonEl.classList.add('colab-df-quickchart-complete');\n",
              "    }\n",
              "    (() => {\n",
              "      let quickchartButtonEl =\n",
              "        document.querySelector('#df-00952c9c-ad24-4003-a61c-d1b84199fb93 button');\n",
              "      quickchartButtonEl.style.display =\n",
              "        google.colab.kernel.accessAllowed ? 'block' : 'none';\n",
              "    })();\n",
              "  </script>\n",
              "</div>\n",
              "\n",
              "    </div>\n",
              "  </div>\n"
            ],
            "application/vnd.google.colaboratory.intrinsic+json": {
              "type": "dataframe",
              "variable_name": "data"
            }
          },
          "metadata": {},
          "execution_count": 5
        }
      ],
      "source": [
        "# loading data\n",
        "data = pd.read_csv(r'/content/drive/MyDrive/Documents/Machine Learning/Telco-Customer-Churn.csv')\n",
        "data.head()"
      ]
    },
    {
      "cell_type": "markdown",
      "metadata": {
        "id": "wWsbn9G5XuQP"
      },
      "source": [
        "# Exploratory Data Analysis"
      ]
    },
    {
      "cell_type": "code",
      "execution_count": 6,
      "metadata": {
        "colab": {
          "base_uri": "https://localhost:8080/"
        },
        "id": "sNeeOyASmH9L",
        "outputId": "e1f9d336-8c21-4fea-f999-06a4d860131b"
      },
      "outputs": [
        {
          "output_type": "execute_result",
          "data": {
            "text/plain": [
              "Index(['customerID', 'gender', 'SeniorCitizen', 'Partner', 'Dependents',\n",
              "       'tenure', 'PhoneService', 'MultipleLines', 'InternetService',\n",
              "       'OnlineSecurity', 'OnlineBackup', 'DeviceProtection', 'TechSupport',\n",
              "       'StreamingTV', 'StreamingMovies', 'Contract', 'PaperlessBilling',\n",
              "       'PaymentMethod', 'MonthlyCharges', 'TotalCharges', 'Churn'],\n",
              "      dtype='object')"
            ]
          },
          "metadata": {},
          "execution_count": 6
        }
      ],
      "source": [
        "data.columns"
      ]
    },
    {
      "cell_type": "code",
      "execution_count": 7,
      "metadata": {
        "colab": {
          "base_uri": "https://localhost:8080/"
        },
        "id": "mGhGTJeYpiQ3",
        "outputId": "c543337b-f2ea-433e-f893-f99fd7176a41"
      },
      "outputs": [
        {
          "output_type": "stream",
          "name": "stdout",
          "text": [
            "customerID : 7043\n",
            "gender : 2\n",
            "SeniorCitizen : 2\n",
            "Partner : 2\n",
            "Dependents : 2\n",
            "tenure : 73\n",
            "PhoneService : 2\n",
            "MultipleLines : 3\n",
            "InternetService : 3\n",
            "OnlineSecurity : 3\n",
            "OnlineBackup : 3\n",
            "DeviceProtection : 3\n",
            "TechSupport : 3\n",
            "StreamingTV : 3\n",
            "StreamingMovies : 3\n",
            "Contract : 3\n",
            "PaperlessBilling : 2\n",
            "PaymentMethod : 4\n",
            "MonthlyCharges : 1585\n",
            "TotalCharges : 6531\n",
            "Churn : 2\n"
          ]
        }
      ],
      "source": [
        "# checking number of unique values per column\n",
        "for col in data:\n",
        "  print(f'{col} : {data[col].nunique()}')"
      ]
    },
    {
      "cell_type": "markdown",
      "metadata": {
        "id": "EEbiUXayXuQZ"
      },
      "source": [
        "CustomerID column has no predictive power. It should be dropped."
      ]
    },
    {
      "cell_type": "code",
      "execution_count": 8,
      "metadata": {
        "id": "TUUVn0AJk87K"
      },
      "outputs": [],
      "source": [
        "df = data.drop(columns = 'customerID')"
      ]
    },
    {
      "cell_type": "code",
      "execution_count": 9,
      "metadata": {
        "colab": {
          "base_uri": "https://localhost:8080/"
        },
        "id": "jaRnQefmr3XO",
        "outputId": "728680c4-4fff-4e07-e28d-ab77d78ba21c"
      },
      "outputs": [
        {
          "output_type": "execute_result",
          "data": {
            "text/plain": [
              "gender               object\n",
              "SeniorCitizen         int64\n",
              "Partner              object\n",
              "Dependents           object\n",
              "tenure                int64\n",
              "PhoneService         object\n",
              "MultipleLines        object\n",
              "InternetService      object\n",
              "OnlineSecurity       object\n",
              "OnlineBackup         object\n",
              "DeviceProtection     object\n",
              "TechSupport          object\n",
              "StreamingTV          object\n",
              "StreamingMovies      object\n",
              "Contract             object\n",
              "PaperlessBilling     object\n",
              "PaymentMethod        object\n",
              "MonthlyCharges      float64\n",
              "TotalCharges         object\n",
              "Churn                object\n",
              "dtype: object"
            ]
          },
          "metadata": {},
          "execution_count": 9
        }
      ],
      "source": [
        "# checking data types\n",
        "df.dtypes"
      ]
    },
    {
      "cell_type": "code",
      "execution_count": 10,
      "metadata": {
        "colab": {
          "base_uri": "https://localhost:8080/"
        },
        "id": "3vj42T0-uH9_",
        "outputId": "94e5fe11-89d8-4aa7-dda7-6b8752209316"
      },
      "outputs": [
        {
          "output_type": "execute_result",
          "data": {
            "text/plain": [
              "count    7032.000000\n",
              "mean     2283.300441\n",
              "std      2266.771362\n",
              "min        18.800000\n",
              "25%       401.450000\n",
              "50%      1397.475000\n",
              "75%      3794.737500\n",
              "max      8684.800000\n",
              "Name: TotalCharges, dtype: float64"
            ]
          },
          "metadata": {},
          "execution_count": 10
        }
      ],
      "source": [
        "df.loc[df['TotalCharges'] != ' ']['TotalCharges'].astype('float').describe()"
      ]
    },
    {
      "cell_type": "markdown",
      "metadata": {
        "id": "M9Sm7AumXuQd"
      },
      "source": [
        "The Total Charges column is type object and it has to be changed to float. It appears that there were some blank values, that have to be properly dealt with.\n"
      ]
    },
    {
      "cell_type": "code",
      "execution_count": 11,
      "metadata": {
        "id": "ZM1uWzMhu4PY",
        "outputId": "cfdc2238-49c9-45d1-dfd9-f6c50136d822",
        "colab": {
          "base_uri": "https://localhost:8080/"
        }
      },
      "outputs": [
        {
          "output_type": "stream",
          "name": "stdout",
          "text": [
            "11 out of 7043 records had a blank Total Charge\n"
          ]
        }
      ],
      "source": [
        "no_chrg_df = df.loc[df['TotalCharges'] == ' ']\n",
        "print(f\"{len(no_chrg_df)} out of {len(df)} records had a blank Total Charge\")"
      ]
    },
    {
      "cell_type": "code",
      "execution_count": 12,
      "metadata": {
        "colab": {
          "base_uri": "https://localhost:8080/"
        },
        "id": "pea3X2uCtpBg",
        "outputId": "e617c0ec-07cb-4d84-eeae-254c2fa59cd5"
      },
      "outputs": [
        {
          "output_type": "stream",
          "name": "stderr",
          "text": [
            "<ipython-input-12-d48ab3a6095b>:4: SettingWithCopyWarning: \n",
            "A value is trying to be set on a copy of a slice from a DataFrame.\n",
            "Try using .loc[row_indexer,col_indexer] = value instead\n",
            "\n",
            "See the caveats in the documentation: https://pandas.pydata.org/pandas-docs/stable/user_guide/indexing.html#returning-a-view-versus-a-copy\n",
            "  df1['TotalCharges'] = df1['TotalCharges'].astype('float')\n"
          ]
        }
      ],
      "source": [
        "# exclude the 11 rows and convert to float data type\n",
        "df1 = df.loc[df['TotalCharges'] != ' ']\n",
        "\n",
        "df1['TotalCharges'] = df1['TotalCharges'].astype('float')"
      ]
    },
    {
      "cell_type": "markdown",
      "metadata": {
        "id": "TGqEs8nWXuQh"
      },
      "source": [
        "# Data Visualizations"
      ]
    },
    {
      "cell_type": "code",
      "execution_count": 13,
      "metadata": {
        "colab": {
          "base_uri": "https://localhost:8080/",
          "height": 564
        },
        "id": "5MKyQJfGoyMh",
        "outputId": "6074c49e-a2b7-4ab9-ec38-3e1d22d9fd39"
      },
      "outputs": [
        {
          "output_type": "display_data",
          "data": {
            "text/plain": [
              "<Figure size 1000x600 with 1 Axes>"
            ],
            "image/png": "[encoded data removed]"
          },
          "metadata": {}
        }
      ],
      "source": [
        "no_churn = df1[df1['Churn'] == 'No'].tenure\n",
        "yes_churn = df1[df1['Churn'] == 'Yes'].tenure\n",
        "\n",
        "plt.figure(figsize = (10, 6))\n",
        "plt.hist([no_churn, yes_churn])\n",
        "plt.title('tenure histogram')\n",
        "plt.xlabel('tenure')\n",
        "plt.ylabel('count')\n",
        "plt.show()"
      ]
    },
    {
      "cell_type": "code",
      "execution_count": 14,
      "metadata": {
        "colab": {
          "base_uri": "https://localhost:8080/",
          "height": 1000
        },
        "id": "1D43NIijrTmY",
        "outputId": "61213709-0e3e-4bdd-a2ac-4e4d03cb0c1c"
      },
      "outputs": [
        {
          "output_type": "display_data",
          "data": {
            "text/plain": [
              "<Figure size 1000x600 with 1 Axes>"
            ],
            "image/png": "[encoded data removed]"
          },
          "metadata": {}
        },
        {
          "output_type": "display_data",
          "data": {
            "text/plain": [
              "<Figure size 1000x700 with 0 Axes>"
            ]
          },
          "metadata": {}
        },
        {
          "output_type": "display_data",
          "data": {
            "text/plain": [
              "<Figure size 572.125x500 with 1 Axes>"
            ],
            "image/png": "[encoded data removed]"
          },
          "metadata": {}
        }
      ],
      "source": [
        "plt.figure(figsize = (10, 6))\n",
        "plt.title('tenure histogram')\n",
        "sns.histplot(data = df1, x = 'tenure', hue= 'Churn')\n",
        "plt.show()\n",
        "\n",
        "# distribution plot\n",
        "plt.figure(figsize = (10, 7))\n",
        "sns.displot(data = df1, x = 'tenure', hue = 'Churn', kind = 'kde')\n",
        "plt.show()"
      ]
    },
    {
      "cell_type": "code",
      "execution_count": 15,
      "metadata": {
        "id": "pse6xRcPXuQk",
        "outputId": "b936251e-19b4-4ade-cddf-f0e79014b64d",
        "colab": {
          "base_uri": "https://localhost:8080/",
          "height": 1000
        }
      },
      "outputs": [
        {
          "output_type": "display_data",
          "data": {
            "text/plain": [
              "<Figure size 1000x700 with 1 Axes>"
            ],
            "image/png": "[encoded data removed]"
          },
          "metadata": {}
        },
        {
          "output_type": "display_data",
          "data": {
            "text/plain": [
              "<Figure size 1000x700 with 1 Axes>"
            ],
            "image/png": "[encoded data removed]"
          },
          "metadata": {}
        }
      ],
      "source": [
        "# Total Charges distribution plot\n",
        "plt.figure(figsize = (10, 7))\n",
        "sns.histplot(data = df1, x = 'TotalCharges', hue = 'Churn')\n",
        "plt.title('Total Charges Distribution')\n",
        "plt.show()\n",
        "\n",
        "# Total Charges distribution plot\n",
        "plt.figure(figsize = (10, 7))\n",
        "sns.histplot(data = df1, x = 'MonthlyCharges', hue = 'Churn')\n",
        "plt.title('Monthly Charges Distribution')\n",
        "plt.show()\n",
        "\n"
      ]
    },
    {
      "cell_type": "code",
      "execution_count": 16,
      "metadata": {
        "id": "u0MUQ7hvXuQl",
        "outputId": "eb7e4d9e-ee44-4e8a-deac-bdc6b745972d",
        "colab": {
          "base_uri": "https://localhost:8080/",
          "height": 1000
        }
      },
      "outputs": [
        {
          "output_type": "display_data",
          "data": {
            "text/plain": [
              "<Figure size 700x500 with 1 Axes>"
            ],
            "image/png": "[encoded data removed]"
          },
          "metadata": {}
        },
        {
          "output_type": "display_data",
          "data": {
            "text/plain": [
              "<Figure size 800x600 with 1 Axes>"
            ],
            "image/png": "[encoded data removed]"
          },
          "metadata": {}
        },
        {
          "output_type": "display_data",
          "data": {
            "text/plain": [
              "<Figure size 800x600 with 1 Axes>"
            ],
            "image/png": "[encoded data removed]"
          },
          "metadata": {}
        }
      ],
      "source": [
        "# Let's check churn by Contract\n",
        "\n",
        "monthly_contr = df1[df1.Contract == 'Month-to-month']\n",
        "oneyr_contr = df1[df1.Contract == 'One year']\n",
        "twoyr_contr = df1[df1.Contract == 'Two year']\n",
        "\n",
        "plt.figure(figsize = (7, 5))\n",
        "plt.title('month to month contract')\n",
        "sns.histplot(data = monthly_contr, x = 'Churn', color = 'pink')\n",
        "plt.show()\n",
        "\n",
        "plt.figure(figsize = (8, 6))\n",
        "plt.title('one year contract')\n",
        "sns.histplot(data = oneyr_contr, x = 'Churn', color = 'pink')\n",
        "plt.show()\n",
        "\n",
        "plt.figure(figsize = (8, 6))\n",
        "plt.title('Two year contract')\n",
        "sns.histplot(data = twoyr_contr, x = 'Churn', color = 'pink')\n",
        "plt.show()"
      ]
    },
    {
      "cell_type": "markdown",
      "metadata": {
        "id": "trzZJZSrguae"
      },
      "source": [
        "Data Pre-Processing"
      ]
    },
    {
      "cell_type": "code",
      "execution_count": 17,
      "metadata": {
        "colab": {
          "base_uri": "https://localhost:8080/"
        },
        "id": "weegjkw9shgC",
        "outputId": "12bdfaa7-6ab8-4323-fe89-ea3ee93d251c"
      },
      "outputs": [
        {
          "output_type": "execute_result",
          "data": {
            "text/plain": [
              "Index(['gender', 'Partner', 'Dependents', 'PhoneService', 'MultipleLines',\n",
              "       'InternetService', 'OnlineSecurity', 'OnlineBackup', 'DeviceProtection',\n",
              "       'TechSupport', 'StreamingTV', 'StreamingMovies', 'Contract',\n",
              "       'PaperlessBilling', 'PaymentMethod', 'Churn'],\n",
              "      dtype='object')"
            ]
          },
          "metadata": {},
          "execution_count": 17
        }
      ],
      "source": [
        "# columns with data type as object\n",
        "df1.dtypes[df1.dtypes == 'object'].index"
      ]
    },
    {
      "cell_type": "code",
      "execution_count": 18,
      "metadata": {
        "colab": {
          "base_uri": "https://localhost:8080/"
        },
        "id": "xnEG80QDo1rv",
        "outputId": "8f9f6d83-bca9-462a-cc4d-5a424b05de26"
      },
      "outputs": [
        {
          "output_type": "stream",
          "name": "stdout",
          "text": [
            "gender   ['Female' 'Male']\n",
            "Partner   ['Yes' 'No']\n",
            "Dependents   ['No' 'Yes']\n",
            "PhoneService   ['No' 'Yes']\n",
            "MultipleLines   ['No phone service' 'No' 'Yes']\n",
            "InternetService   ['DSL' 'Fiber optic' 'No']\n",
            "OnlineSecurity   ['No' 'Yes' 'No internet service']\n",
            "OnlineBackup   ['Yes' 'No' 'No internet service']\n",
            "DeviceProtection   ['No' 'Yes' 'No internet service']\n",
            "TechSupport   ['No' 'Yes' 'No internet service']\n",
            "StreamingTV   ['No' 'Yes' 'No internet service']\n",
            "StreamingMovies   ['No' 'Yes' 'No internet service']\n",
            "Contract   ['Month-to-month' 'One year' 'Two year']\n",
            "PaperlessBilling   ['Yes' 'No']\n",
            "PaymentMethod   ['Electronic check' 'Mailed check' 'Bank transfer (automatic)'\n",
            " 'Credit card (automatic)']\n",
            "Churn   ['No' 'Yes']\n"
          ]
        }
      ],
      "source": [
        "# check unique values in each of the object data type columns\n",
        "\n",
        "for col in df1.dtypes[df1.dtypes == 'object'].index:\n",
        "  print(f'{col}   {df1[col].unique()}')"
      ]
    },
    {
      "cell_type": "code",
      "execution_count": 19,
      "metadata": {
        "colab": {
          "base_uri": "https://localhost:8080/",
          "height": 290
        },
        "id": "2RGf0WmikQyd",
        "outputId": "96f9e69d-67a0-4c35-bd65-1fb0fe6bdbd9"
      },
      "outputs": [
        {
          "output_type": "execute_result",
          "data": {
            "text/plain": [
              "   SeniorCitizen  Partner  Dependents  tenure  PhoneService  Contract  \\\n",
              "0              0        1           0       1             0         0   \n",
              "1              0        0           0      34             1         1   \n",
              "2              0        0           0       2             1         0   \n",
              "3              0        0           0      45             0         1   \n",
              "4              0        0           0       2             1         0   \n",
              "\n",
              "   PaperlessBilling  MonthlyCharges  TotalCharges  Churn  ...  \\\n",
              "0                 1           29.85         29.85      0  ...   \n",
              "1                 0           56.95       1889.50      0  ...   \n",
              "2                 1           53.85        108.15      1  ...   \n",
              "3                 0           42.30       1840.75      0  ...   \n",
              "4                 1           70.70        151.65      1  ...   \n",
              "\n",
              "   StreamingTV_Yes  StreamingMovies_No  StreamingMovies_No internet service  \\\n",
              "0                0                   1                                    0   \n",
              "1                0                   1                                    0   \n",
              "2                0                   1                                    0   \n",
              "3                0                   1                                    0   \n",
              "4                0                   1                                    0   \n",
              "\n",
              "   StreamingMovies_Yes  PaymentMethod_Bank transfer (automatic)  \\\n",
              "0                    0                                        0   \n",
              "1                    0                                        0   \n",
              "2                    0                                        0   \n",
              "3                    0                                        1   \n",
              "4                    0                                        0   \n",
              "\n",
              "   PaymentMethod_Credit card (automatic)  PaymentMethod_Electronic check  \\\n",
              "0                                      0                               1   \n",
              "1                                      0                               0   \n",
              "2                                      0                               0   \n",
              "3                                      0                               0   \n",
              "4                                      0                               1   \n",
              "\n",
              "   PaymentMethod_Mailed check  gender_Female  gender_Male  \n",
              "0                           0              1            0  \n",
              "1                           1              0            1  \n",
              "2                           1              0            1  \n",
              "3                           0              0            1  \n",
              "4                           0              1            0  \n",
              "\n",
              "[5 rows x 40 columns]"
            ],
            "text/html": [
              "\n",
              "  <div id=\"df-823bacbd-08e0-4e57-ba25-879f425d94b6\" class=\"colab-df-container\">\n",
              "    <div>\n",
              "<style scoped>\n",
              "    .dataframe tbody tr th:only-of-type {\n",
              "        vertical-align: middle;\n",
              "    }\n",
              "\n",
              "    .dataframe tbody tr th {\n",
              "        vertical-align: top;\n",
              "    }\n",
              "\n",
              "    .dataframe thead th {\n",
              "        text-align: right;\n",
              "    }\n",
              "</style>\n",
              "<table border=\"1\" class=\"dataframe\">\n",
              "  <thead>\n",
              "    <tr style=\"text-align: right;\">\n",
              "      <th></th>\n",
              "      <th>SeniorCitizen</th>\n",
              "      <th>Partner</th>\n",
              "      <th>Dependents</th>\n",
              "      <th>tenure</th>\n",
              "      <th>PhoneService</th>\n",
              "      <th>Contract</th>\n",
              "      <th>PaperlessBilling</th>\n",
              "      <th>MonthlyCharges</th>\n",
              "      <th>TotalCharges</th>\n",
              "      <th>Churn</th>\n",
              "      <th>...</th>\n",
              "      <th>StreamingTV_Yes</th>\n",
              "      <th>StreamingMovies_No</th>\n",
              "      <th>StreamingMovies_No internet service</th>\n",
              "      <th>StreamingMovies_Yes</th>\n",
              "      <th>PaymentMethod_Bank transfer (automatic)</th>\n",
              "      <th>PaymentMethod_Credit card (automatic)</th>\n",
              "      <th>PaymentMethod_Electronic check</th>\n",
              "      <th>PaymentMethod_Mailed check</th>\n",
              "      <th>gender_Female</th>\n",
              "      <th>gender_Male</th>\n",
              "    </tr>\n",
              "  </thead>\n",
              "  <tbody>\n",
              "    <tr>\n",
              "      <th>0</th>\n",
              "      <td>0</td>\n",
              "      <td>1</td>\n",
              "      <td>0</td>\n",
              "      <td>1</td>\n",
              "      <td>0</td>\n",
              "      <td>0</td>\n",
              "      <td>1</td>\n",
              "      <td>29.85</td>\n",
              "      <td>29.85</td>\n",
              "      <td>0</td>\n",
              "      <td>...</td>\n",
              "      <td>0</td>\n",
              "      <td>1</td>\n",
              "      <td>0</td>\n",
              "      <td>0</td>\n",
              "      <td>0</td>\n",
              "      <td>0</td>\n",
              "      <td>1</td>\n",
              "      <td>0</td>\n",
              "      <td>1</td>\n",
              "      <td>0</td>\n",
              "    </tr>\n",
              "    <tr>\n",
              "      <th>1</th>\n",
              "      <td>0</td>\n",
              "      <td>0</td>\n",
              "      <td>0</td>\n",
              "      <td>34</td>\n",
              "      <td>1</td>\n",
              "      <td>1</td>\n",
              "      <td>0</td>\n",
              "      <td>56.95</td>\n",
              "      <td>1889.50</td>\n",
              "      <td>0</td>\n",
              "      <td>...</td>\n",
              "      <td>0</td>\n",
              "      <td>1</td>\n",
              "      <td>0</td>\n",
              "      <td>0</td>\n",
              "      <td>0</td>\n",
              "      <td>0</td>\n",
              "      <td>0</td>\n",
              "      <td>1</td>\n",
              "      <td>0</td>\n",
              "      <td>1</td>\n",
              "    </tr>\n",
              "    <tr>\n",
              "      <th>2</th>\n",
              "      <td>0</td>\n",
              "      <td>0</td>\n",
              "      <td>0</td>\n",
              "      <td>2</td>\n",
              "      <td>1</td>\n",
              "      <td>0</td>\n",
              "      <td>1</td>\n",
              "      <td>53.85</td>\n",
              "      <td>108.15</td>\n",
              "      <td>1</td>\n",
              "      <td>...</td>\n",
              "      <td>0</td>\n",
              "      <td>1</td>\n",
              "      <td>0</td>\n",
              "      <td>0</td>\n",
              "      <td>0</td>\n",
              "      <td>0</td>\n",
              "      <td>0</td>\n",
              "      <td>1</td>\n",
              "      <td>0</td>\n",
              "      <td>1</td>\n",
              "    </tr>\n",
              "    <tr>\n",
              "      <th>3</th>\n",
              "      <td>0</td>\n",
              "      <td>0</td>\n",
              "      <td>0</td>\n",
              "      <td>45</td>\n",
              "      <td>0</td>\n",
              "      <td>1</td>\n",
              "      <td>0</td>\n",
              "      <td>42.30</td>\n",
              "      <td>1840.75</td>\n",
              "      <td>0</td>\n",
              "      <td>...</td>\n",
              "      <td>0</td>\n",
              "      <td>1</td>\n",
              "      <td>0</td>\n",
              "      <td>0</td>\n",
              "      <td>1</td>\n",
              "      <td>0</td>\n",
              "      <td>0</td>\n",
              "      <td>0</td>\n",
              "      <td>0</td>\n",
              "      <td>1</td>\n",
              "    </tr>\n",
              "    <tr>\n",
              "      <th>4</th>\n",
              "      <td>0</td>\n",
              "      <td>0</td>\n",
              "      <td>0</td>\n",
              "      <td>2</td>\n",
              "      <td>1</td>\n",
              "      <td>0</td>\n",
              "      <td>1</td>\n",
              "      <td>70.70</td>\n",
              "      <td>151.65</td>\n",
              "      <td>1</td>\n",
              "      <td>...</td>\n",
              "      <td>0</td>\n",
              "      <td>1</td>\n",
              "      <td>0</td>\n",
              "      <td>0</td>\n",
              "      <td>0</td>\n",
              "      <td>0</td>\n",
              "      <td>1</td>\n",
              "      <td>0</td>\n",
              "      <td>1</td>\n",
              "      <td>0</td>\n",
              "    </tr>\n",
              "  </tbody>\n",
              "</table>\n",
              "<p>5 rows × 40 columns</p>\n",
              "</div>\n",
              "    <div class=\"colab-df-buttons\">\n",
              "\n",
              "  <div class=\"colab-df-container\">\n",
              "    <button class=\"colab-df-convert\" onclick=\"convertToInteractive('df-823bacbd-08e0-4e57-ba25-879f425d94b6')\"\n",
              "            title=\"Convert this dataframe to an interactive table.\"\n",
              "            style=\"display:none;\">\n",
              "\n",
              "  <svg xmlns=\"http://www.w3.org/2000/svg\" height=\"24px\" viewBox=\"0 -960 960 960\">\n",
              "    <path d=\"M120-120v-720h720v720H120Zm60-500h600v-160H180v160Zm220 220h160v-160H400v160Zm0 220h160v-160H400v160ZM180-400h160v-160H180v160Zm440 0h160v-160H620v160ZM180-180h160v-160H180v160Zm440 0h160v-160H620v160Z\"/>\n",
              "  </svg>\n",
              "    </button>\n",
              "\n",
              "  <style>\n",
              "    .colab-df-container {\n",
              "      display:flex;\n",
              "      gap: 12px;\n",
              "    }\n",
              "\n",
              "    .colab-df-convert {\n",
              "      background-color: #E8F0FE;\n",
              "      border: none;\n",
              "      border-radius: 50%;\n",
              "      cursor: pointer;\n",
              "      display: none;\n",
              "      fill: #1967D2;\n",
              "      height: 32px;\n",
              "      padding: 0 0 0 0;\n",
              "      width: 32px;\n",
              "    }\n",
              "\n",
              "    .colab-df-convert:hover {\n",
              "      background-color: #E2EBFA;\n",
              "      box-shadow: 0px 1px 2px rgba(60, 64, 67, 0.3), 0px 1px 3px 1px rgba(60, 64, 67, 0.15);\n",
              "      fill: #174EA6;\n",
              "    }\n",
              "\n",
              "    .colab-df-buttons div {\n",
              "      margin-bottom: 4px;\n",
              "    }\n",
              "\n",
              "    [theme=dark] .colab-df-convert {\n",
              "      background-color: #3B4455;\n",
              "      fill: #D2E3FC;\n",
              "    }\n",
              "\n",
              "    [theme=dark] .colab-df-convert:hover {\n",
              "      background-color: #434B5C;\n",
              "      box-shadow: 0px 1px 3px 1px rgba(0, 0, 0, 0.15);\n",
              "      filter: drop-shadow(0px 1px 2px rgba(0, 0, 0, 0.3));\n",
              "      fill: #FFFFFF;\n",
              "    }\n",
              "  </style>\n",
              "\n",
              "    <script>\n",
              "      const buttonEl =\n",
              "        document.querySelector('#df-823bacbd-08e0-4e57-ba25-879f425d94b6 button.colab-df-convert');\n",
              "      buttonEl.style.display =\n",
              "        google.colab.kernel.accessAllowed ? 'block' : 'none';\n",
              "\n",
              "      async function convertToInteractive(key) {\n",
              "        const element = document.querySelector('#df-823bacbd-08e0-4e57-ba25-879f425d94b6');\n",
              "        const dataTable =\n",
              "          await google.colab.kernel.invokeFunction('convertToInteractive',\n",
              "                                                    [key], {});\n",
              "        if (!dataTable) return;\n",
              "\n",
              "        const docLinkHtml = 'Like what you see? Visit the ' +\n",
              "          '<a target=\"_blank\" href=https://colab.research.google.com/notebooks/data_table.ipynb>data table notebook</a>'\n",
              "          + ' to learn more about interactive tables.';\n",
              "        element.innerHTML = '';\n",
              "        dataTable['output_type'] = 'display_data';\n",
              "        await google.colab.output.renderOutput(dataTable, element);\n",
              "        const docLink = document.createElement('div');\n",
              "        docLink.innerHTML = docLinkHtml;\n",
              "        element.appendChild(docLink);\n",
              "      }\n",
              "    </script>\n",
              "  </div>\n",
              "\n",
              "\n",
              "<div id=\"df-224c1e88-8d19-46c5-b8b2-21bced391163\">\n",
              "  <button class=\"colab-df-quickchart\" onclick=\"quickchart('df-224c1e88-8d19-46c5-b8b2-21bced391163')\"\n",
              "            title=\"Suggest charts\"\n",
              "            style=\"display:none;\">\n",
              "\n",
              "<svg xmlns=\"http://www.w3.org/2000/svg\" height=\"24px\"viewBox=\"0 0 24 24\"\n",
              "     width=\"24px\">\n",
              "    <g>\n",
              "        <path d=\"M19 3H5c-1.1 0-2 .9-2 2v14c0 1.1.9 2 2 2h14c1.1 0 2-.9 2-2V5c0-1.1-.9-2-2-2zM9 17H7v-7h2v7zm4 0h-2V7h2v10zm4 0h-2v-4h2v4z\"/>\n",
              "    </g>\n",
              "</svg>\n",
              "  </button>\n",
              "\n",
              "<style>\n",
              "  .colab-df-quickchart {\n",
              "      --bg-color: #E8F0FE;\n",
              "      --fill-color: #1967D2;\n",
              "      --hover-bg-color: #E2EBFA;\n",
              "      --hover-fill-color: #174EA6;\n",
              "      --disabled-fill-color: #AAA;\n",
              "      --disabled-bg-color: #DDD;\n",
              "  }\n",
              "\n",
              "  [theme=dark] .colab-df-quickchart {\n",
              "      --bg-color: #3B4455;\n",
              "      --fill-color: #D2E3FC;\n",
              "      --hover-bg-color: #434B5C;\n",
              "      --hover-fill-color: #FFFFFF;\n",
              "      --disabled-bg-color: #3B4455;\n",
              "      --disabled-fill-color: #666;\n",
              "  }\n",
              "\n",
              "  .colab-df-quickchart {\n",
              "    background-color: var(--bg-color);\n",
              "    border: none;\n",
              "    border-radius: 50%;\n",
              "    cursor: pointer;\n",
              "    display: none;\n",
              "    fill: var(--fill-color);\n",
              "    height: 32px;\n",
              "    padding: 0;\n",
              "    width: 32px;\n",
              "  }\n",
              "\n",
              "  .colab-df-quickchart:hover {\n",
              "    background-color: var(--hover-bg-color);\n",
              "    box-shadow: 0 1px 2px rgba(60, 64, 67, 0.3), 0 1px 3px 1px rgba(60, 64, 67, 0.15);\n",
              "    fill: var(--button-hover-fill-color);\n",
              "  }\n",
              "\n",
              "  .colab-df-quickchart-complete:disabled,\n",
              "  .colab-df-quickchart-complete:disabled:hover {\n",
              "    background-color: var(--disabled-bg-color);\n",
              "    fill: var(--disabled-fill-color);\n",
              "    box-shadow: none;\n",
              "  }\n",
              "\n",
              "  .colab-df-spinner {\n",
              "    border: 2px solid var(--fill-color);\n",
              "    border-color: transparent;\n",
              "    border-bottom-color: var(--fill-color);\n",
              "    animation:\n",
              "      spin 1s steps(1) infinite;\n",
              "  }\n",
              "\n",
              "  @keyframes spin {\n",
              "    0% {\n",
              "      border-color: transparent;\n",
              "      border-bottom-color: var(--fill-color);\n",
              "      border-left-color: var(--fill-color);\n",
              "    }\n",
              "    20% {\n",
              "      border-color: transparent;\n",
              "      border-left-color: var(--fill-color);\n",
              "      border-top-color: var(--fill-color);\n",
              "    }\n",
              "    30% {\n",
              "      border-color: transparent;\n",
              "      border-left-color: var(--fill-color);\n",
              "      border-top-color: var(--fill-color);\n",
              "      border-right-color: var(--fill-color);\n",
              "    }\n",
              "    40% {\n",
              "      border-color: transparent;\n",
              "      border-right-color: var(--fill-color);\n",
              "      border-top-color: var(--fill-color);\n",
              "    }\n",
              "    60% {\n",
              "      border-color: transparent;\n",
              "      border-right-color: var(--fill-color);\n",
              "    }\n",
              "    80% {\n",
              "      border-color: transparent;\n",
              "      border-right-color: var(--fill-color);\n",
              "      border-bottom-color: var(--fill-color);\n",
              "    }\n",
              "    90% {\n",
              "      border-color: transparent;\n",
              "      border-bottom-color: var(--fill-color);\n",
              "    }\n",
              "  }\n",
              "</style>\n",
              "\n",
              "  <script>\n",
              "    async function quickchart(key) {\n",
              "      const quickchartButtonEl =\n",
              "        document.querySelector('#' + key + ' button');\n",
              "      quickchartButtonEl.disabled = true;  // To prevent multiple clicks.\n",
              "      quickchartButtonEl.classList.add('colab-df-spinner');\n",
              "      try {\n",
              "        const charts = await google.colab.kernel.invokeFunction(\n",
              "            'suggestCharts', [key], {});\n",
              "      } catch (error) {\n",
              "        console.error('Error during call to suggestCharts:', error);\n",
              "      }\n",
              "      quickchartButtonEl.classList.remove('colab-df-spinner');\n",
              "      quickchartButtonEl.classList.add('colab-df-quickchart-complete');\n",
              "    }\n",
              "    (() => {\n",
              "      let quickchartButtonEl =\n",
              "        document.querySelector('#df-224c1e88-8d19-46c5-b8b2-21bced391163 button');\n",
              "      quickchartButtonEl.style.display =\n",
              "        google.colab.kernel.accessAllowed ? 'block' : 'none';\n",
              "    })();\n",
              "  </script>\n",
              "</div>\n",
              "\n",
              "    </div>\n",
              "  </div>\n"
            ],
            "application/vnd.google.colaboratory.intrinsic+json": {
              "type": "dataframe",
              "variable_name": "df3"
            }
          },
          "metadata": {},
          "execution_count": 19
        }
      ],
      "source": [
        "# Encoding our categorical columns\n",
        "df2 = pd.get_dummies(data = df1, columns= ['InternetService', 'MultipleLines',\n",
        "                                           'OnlineSecurity', 'OnlineBackup',\n",
        "                                           'DeviceProtection', 'TechSupport',\n",
        "                                           'StreamingTV', 'StreamingMovies',\n",
        "                                           'PaymentMethod', 'gender'])\n",
        "df3 = df2.replace({'Yes': 1,\n",
        "                   'No': 0,\n",
        "                   'Month-to-month': 0,\n",
        "                   'One year': 1,\n",
        "                   'Two year': 2})\n",
        "df3.head()"
      ]
    },
    {
      "cell_type": "code",
      "execution_count": 20,
      "metadata": {
        "colab": {
          "base_uri": "https://localhost:8080/"
        },
        "id": "zIf_7eYhm0oZ",
        "outputId": "a86058a8-cda8-4338-ab01-9526050b5469"
      },
      "outputs": [
        {
          "output_type": "execute_result",
          "data": {
            "text/plain": [
              "SeniorCitizen                                int64\n",
              "Partner                                      int64\n",
              "Dependents                                   int64\n",
              "tenure                                       int64\n",
              "PhoneService                                 int64\n",
              "Contract                                     int64\n",
              "PaperlessBilling                             int64\n",
              "MonthlyCharges                             float64\n",
              "TotalCharges                               float64\n",
              "Churn                                        int64\n",
              "InternetService_DSL                          uint8\n",
              "InternetService_Fiber optic                  uint8\n",
              "InternetService_No                           uint8\n",
              "MultipleLines_No                             uint8\n",
              "MultipleLines_No phone service               uint8\n",
              "MultipleLines_Yes                            uint8\n",
              "OnlineSecurity_No                            uint8\n",
              "OnlineSecurity_No internet service           uint8\n",
              "OnlineSecurity_Yes                           uint8\n",
              "OnlineBackup_No                              uint8\n",
              "OnlineBackup_No internet service             uint8\n",
              "OnlineBackup_Yes                             uint8\n",
              "DeviceProtection_No                          uint8\n",
              "DeviceProtection_No internet service         uint8\n",
              "DeviceProtection_Yes                         uint8\n",
              "TechSupport_No                               uint8\n",
              "TechSupport_No internet service              uint8\n",
              "TechSupport_Yes                              uint8\n",
              "StreamingTV_No                               uint8\n",
              "StreamingTV_No internet service              uint8\n",
              "StreamingTV_Yes                              uint8\n",
              "StreamingMovies_No                           uint8\n",
              "StreamingMovies_No internet service          uint8\n",
              "StreamingMovies_Yes                          uint8\n",
              "PaymentMethod_Bank transfer (automatic)      uint8\n",
              "PaymentMethod_Credit card (automatic)        uint8\n",
              "PaymentMethod_Electronic check               uint8\n",
              "PaymentMethod_Mailed check                   uint8\n",
              "gender_Female                                uint8\n",
              "gender_Male                                  uint8\n",
              "dtype: object"
            ]
          },
          "metadata": {},
          "execution_count": 20
        }
      ],
      "source": [
        "df3.dtypes"
      ]
    },
    {
      "cell_type": "code",
      "execution_count": 20,
      "metadata": {
        "id": "1xR7dW_Jn26T"
      },
      "outputs": [],
      "source": []
    },
    {
      "cell_type": "code",
      "execution_count": 21,
      "metadata": {
        "colab": {
          "base_uri": "https://localhost:8080/"
        },
        "id": "WCTgOVBA2yCR",
        "outputId": "61bdc786-308b-4fb0-b7e4-a60742729ea0"
      },
      "outputs": [
        {
          "output_type": "execute_result",
          "data": {
            "text/plain": [
              "0     No\n",
              "1     No\n",
              "2    Yes\n",
              "3     No\n",
              "4    Yes\n",
              "Name: Churn, dtype: object"
            ]
          },
          "metadata": {},
          "execution_count": 21
        }
      ],
      "source": [
        "df1['Churn'].head()"
      ]
    },
    {
      "cell_type": "code",
      "execution_count": 22,
      "metadata": {
        "colab": {
          "base_uri": "https://localhost:8080/"
        },
        "id": "K8ByyYFqr_Sm",
        "outputId": "8615a572-955b-4136-ac8a-bb89785d676c"
      },
      "outputs": [
        {
          "output_type": "execute_result",
          "data": {
            "text/plain": [
              "0    0\n",
              "1    0\n",
              "2    1\n",
              "3    0\n",
              "4    1\n",
              "Name: Churn, dtype: int64"
            ]
          },
          "metadata": {},
          "execution_count": 22
        }
      ],
      "source": [
        "df3['Churn'].head()"
      ]
    },
    {
      "cell_type": "markdown",
      "metadata": {
        "id": "mihA1BLAXuQ3"
      },
      "source": [
        "One thing we must check is whether our dataset is balanced. imbalanced datasets can lead to biased model performance and affect the accuracy of our predictions."
      ]
    },
    {
      "cell_type": "code",
      "execution_count": 23,
      "metadata": {
        "colab": {
          "base_uri": "https://localhost:8080/",
          "height": 472
        },
        "id": "Xij34oDF3XyB",
        "outputId": "54a4bf85-cd89-4e0f-a950-bb493a492fa0"
      },
      "outputs": [
        {
          "output_type": "display_data",
          "data": {
            "text/plain": [
              "<Figure size 640x480 with 1 Axes>"
            ],
            "image/png": "[encoded data removed]"
          },
          "metadata": {}
        }
      ],
      "source": [
        "# check whether the data is balanced\n",
        "\n",
        "plot_df = df3['Churn'].value_counts().reset_index()\n",
        "\n",
        "plt.bar(plot_df['index'].astype('str'), plot_df['Churn'])\n",
        "plt.title('Imbalanced Dataset')\n",
        "plt.xlabel('Churn')\n",
        "plt.ylabel('Count')\n",
        "plt.show()"
      ]
    },
    {
      "cell_type": "code",
      "execution_count": 24,
      "metadata": {
        "id": "reM8_Zlt_BD3"
      },
      "outputs": [],
      "source": [
        "from sklearn.preprocessing import MinMaxScaler\n",
        "\n",
        "# split the target variable and the input variables\n",
        "X = df3.drop(columns = 'Churn')\n",
        "y = df3['Churn']\n",
        "\n",
        "\n",
        "# scaling data\n",
        "scaler = MinMaxScaler()\n",
        "scaler.fit(X[['MonthlyCharges', 'TotalCharges']])\n",
        "X[['MonthlyCharges', 'TotalCharges']] = scaler.transform(X[['MonthlyCharges', 'TotalCharges']])"
      ]
    },
    {
      "cell_type": "code",
      "execution_count": 25,
      "metadata": {
        "colab": {
          "base_uri": "https://localhost:8080/",
          "height": 206
        },
        "id": "4B7e3lAu_wRd",
        "outputId": "393c0772-f8ec-4790-fdac-0a0bf86234d6"
      },
      "outputs": [
        {
          "output_type": "execute_result",
          "data": {
            "text/plain": [
              "      MonthlyCharges  TotalCharges\n",
              "7038        0.662189      0.227521\n",
              "7039        0.845274      0.847461\n",
              "7040        0.112935      0.037809\n",
              "7041        0.558706      0.033210\n",
              "7042        0.869652      0.787641"
            ],
            "text/html": [
              "\n",
              "  <div id=\"df-9d7ddc4c-46c3-4bc5-84d9-293709f9c8d5\" class=\"colab-df-container\">\n",
              "    <div>\n",
              "<style scoped>\n",
              "    .dataframe tbody tr th:only-of-type {\n",
              "        vertical-align: middle;\n",
              "    }\n",
              "\n",
              "    .dataframe tbody tr th {\n",
              "        vertical-align: top;\n",
              "    }\n",
              "\n",
              "    .dataframe thead th {\n",
              "        text-align: right;\n",
              "    }\n",
              "</style>\n",
              "<table border=\"1\" class=\"dataframe\">\n",
              "  <thead>\n",
              "    <tr style=\"text-align: right;\">\n",
              "      <th></th>\n",
              "      <th>MonthlyCharges</th>\n",
              "      <th>TotalCharges</th>\n",
              "    </tr>\n",
              "  </thead>\n",
              "  <tbody>\n",
              "    <tr>\n",
              "      <th>7038</th>\n",
              "      <td>0.662189</td>\n",
              "      <td>0.227521</td>\n",
              "    </tr>\n",
              "    <tr>\n",
              "      <th>7039</th>\n",
              "      <td>0.845274</td>\n",
              "      <td>0.847461</td>\n",
              "    </tr>\n",
              "    <tr>\n",
              "      <th>7040</th>\n",
              "      <td>0.112935</td>\n",
              "      <td>0.037809</td>\n",
              "    </tr>\n",
              "    <tr>\n",
              "      <th>7041</th>\n",
              "      <td>0.558706</td>\n",
              "      <td>0.033210</td>\n",
              "    </tr>\n",
              "    <tr>\n",
              "      <th>7042</th>\n",
              "      <td>0.869652</td>\n",
              "      <td>0.787641</td>\n",
              "    </tr>\n",
              "  </tbody>\n",
              "</table>\n",
              "</div>\n",
              "    <div class=\"colab-df-buttons\">\n",
              "\n",
              "  <div class=\"colab-df-container\">\n",
              "    <button class=\"colab-df-convert\" onclick=\"convertToInteractive('df-9d7ddc4c-46c3-4bc5-84d9-293709f9c8d5')\"\n",
              "            title=\"Convert this dataframe to an interactive table.\"\n",
              "            style=\"display:none;\">\n",
              "\n",
              "  <svg xmlns=\"http://www.w3.org/2000/svg\" height=\"24px\" viewBox=\"0 -960 960 960\">\n",
              "    <path d=\"M120-120v-720h720v720H120Zm60-500h600v-160H180v160Zm220 220h160v-160H400v160Zm0 220h160v-160H400v160ZM180-400h160v-160H180v160Zm440 0h160v-160H620v160ZM180-180h160v-160H180v160Zm440 0h160v-160H620v160Z\"/>\n",
              "  </svg>\n",
              "    </button>\n",
              "\n",
              "  <style>\n",
              "    .colab-df-container {\n",
              "      display:flex;\n",
              "      gap: 12px;\n",
              "    }\n",
              "\n",
              "    .colab-df-convert {\n",
              "      background-color: #E8F0FE;\n",
              "      border: none;\n",
              "      border-radius: 50%;\n",
              "      cursor: pointer;\n",
              "      display: none;\n",
              "      fill: #1967D2;\n",
              "      height: 32px;\n",
              "      padding: 0 0 0 0;\n",
              "      width: 32px;\n",
              "    }\n",
              "\n",
              "    .colab-df-convert:hover {\n",
              "      background-color: #E2EBFA;\n",
              "      box-shadow: 0px 1px 2px rgba(60, 64, 67, 0.3), 0px 1px 3px 1px rgba(60, 64, 67, 0.15);\n",
              "      fill: #174EA6;\n",
              "    }\n",
              "\n",
              "    .colab-df-buttons div {\n",
              "      margin-bottom: 4px;\n",
              "    }\n",
              "\n",
              "    [theme=dark] .colab-df-convert {\n",
              "      background-color: #3B4455;\n",
              "      fill: #D2E3FC;\n",
              "    }\n",
              "\n",
              "    [theme=dark] .colab-df-convert:hover {\n",
              "      background-color: #434B5C;\n",
              "      box-shadow: 0px 1px 3px 1px rgba(0, 0, 0, 0.15);\n",
              "      filter: drop-shadow(0px 1px 2px rgba(0, 0, 0, 0.3));\n",
              "      fill: #FFFFFF;\n",
              "    }\n",
              "  </style>\n",
              "\n",
              "    <script>\n",
              "      const buttonEl =\n",
              "        document.querySelector('#df-9d7ddc4c-46c3-4bc5-84d9-293709f9c8d5 button.colab-df-convert');\n",
              "      buttonEl.style.display =\n",
              "        google.colab.kernel.accessAllowed ? 'block' : 'none';\n",
              "\n",
              "      async function convertToInteractive(key) {\n",
              "        const element = document.querySelector('#df-9d7ddc4c-46c3-4bc5-84d9-293709f9c8d5');\n",
              "        const dataTable =\n",
              "          await google.colab.kernel.invokeFunction('convertToInteractive',\n",
              "                                                    [key], {});\n",
              "        if (!dataTable) return;\n",
              "\n",
              "        const docLinkHtml = 'Like what you see? Visit the ' +\n",
              "          '<a target=\"_blank\" href=https://colab.research.google.com/notebooks/data_table.ipynb>data table notebook</a>'\n",
              "          + ' to learn more about interactive tables.';\n",
              "        element.innerHTML = '';\n",
              "        dataTable['output_type'] = 'display_data';\n",
              "        await google.colab.output.renderOutput(dataTable, element);\n",
              "        const docLink = document.createElement('div');\n",
              "        docLink.innerHTML = docLinkHtml;\n",
              "        element.appendChild(docLink);\n",
              "      }\n",
              "    </script>\n",
              "  </div>\n",
              "\n",
              "\n",
              "<div id=\"df-0985fddc-5433-4497-b9d1-dbda12b68d3a\">\n",
              "  <button class=\"colab-df-quickchart\" onclick=\"quickchart('df-0985fddc-5433-4497-b9d1-dbda12b68d3a')\"\n",
              "            title=\"Suggest charts\"\n",
              "            style=\"display:none;\">\n",
              "\n",
              "<svg xmlns=\"http://www.w3.org/2000/svg\" height=\"24px\"viewBox=\"0 0 24 24\"\n",
              "     width=\"24px\">\n",
              "    <g>\n",
              "        <path d=\"M19 3H5c-1.1 0-2 .9-2 2v14c0 1.1.9 2 2 2h14c1.1 0 2-.9 2-2V5c0-1.1-.9-2-2-2zM9 17H7v-7h2v7zm4 0h-2V7h2v10zm4 0h-2v-4h2v4z\"/>\n",
              "    </g>\n",
              "</svg>\n",
              "  </button>\n",
              "\n",
              "<style>\n",
              "  .colab-df-quickchart {\n",
              "      --bg-color: #E8F0FE;\n",
              "      --fill-color: #1967D2;\n",
              "      --hover-bg-color: #E2EBFA;\n",
              "      --hover-fill-color: #174EA6;\n",
              "      --disabled-fill-color: #AAA;\n",
              "      --disabled-bg-color: #DDD;\n",
              "  }\n",
              "\n",
              "  [theme=dark] .colab-df-quickchart {\n",
              "      --bg-color: #3B4455;\n",
              "      --fill-color: #D2E3FC;\n",
              "      --hover-bg-color: #434B5C;\n",
              "      --hover-fill-color: #FFFFFF;\n",
              "      --disabled-bg-color: #3B4455;\n",
              "      --disabled-fill-color: #666;\n",
              "  }\n",
              "\n",
              "  .colab-df-quickchart {\n",
              "    background-color: var(--bg-color);\n",
              "    border: none;\n",
              "    border-radius: 50%;\n",
              "    cursor: pointer;\n",
              "    display: none;\n",
              "    fill: var(--fill-color);\n",
              "    height: 32px;\n",
              "    padding: 0;\n",
              "    width: 32px;\n",
              "  }\n",
              "\n",
              "  .colab-df-quickchart:hover {\n",
              "    background-color: var(--hover-bg-color);\n",
              "    box-shadow: 0 1px 2px rgba(60, 64, 67, 0.3), 0 1px 3px 1px rgba(60, 64, 67, 0.15);\n",
              "    fill: var(--button-hover-fill-color);\n",
              "  }\n",
              "\n",
              "  .colab-df-quickchart-complete:disabled,\n",
              "  .colab-df-quickchart-complete:disabled:hover {\n",
              "    background-color: var(--disabled-bg-color);\n",
              "    fill: var(--disabled-fill-color);\n",
              "    box-shadow: none;\n",
              "  }\n",
              "\n",
              "  .colab-df-spinner {\n",
              "    border: 2px solid var(--fill-color);\n",
              "    border-color: transparent;\n",
              "    border-bottom-color: var(--fill-color);\n",
              "    animation:\n",
              "      spin 1s steps(1) infinite;\n",
              "  }\n",
              "\n",
              "  @keyframes spin {\n",
              "    0% {\n",
              "      border-color: transparent;\n",
              "      border-bottom-color: var(--fill-color);\n",
              "      border-left-color: var(--fill-color);\n",
              "    }\n",
              "    20% {\n",
              "      border-color: transparent;\n",
              "      border-left-color: var(--fill-color);\n",
              "      border-top-color: var(--fill-color);\n",
              "    }\n",
              "    30% {\n",
              "      border-color: transparent;\n",
              "      border-left-color: var(--fill-color);\n",
              "      border-top-color: var(--fill-color);\n",
              "      border-right-color: var(--fill-color);\n",
              "    }\n",
              "    40% {\n",
              "      border-color: transparent;\n",
              "      border-right-color: var(--fill-color);\n",
              "      border-top-color: var(--fill-color);\n",
              "    }\n",
              "    60% {\n",
              "      border-color: transparent;\n",
              "      border-right-color: var(--fill-color);\n",
              "    }\n",
              "    80% {\n",
              "      border-color: transparent;\n",
              "      border-right-color: var(--fill-color);\n",
              "      border-bottom-color: var(--fill-color);\n",
              "    }\n",
              "    90% {\n",
              "      border-color: transparent;\n",
              "      border-bottom-color: var(--fill-color);\n",
              "    }\n",
              "  }\n",
              "</style>\n",
              "\n",
              "  <script>\n",
              "    async function quickchart(key) {\n",
              "      const quickchartButtonEl =\n",
              "        document.querySelector('#' + key + ' button');\n",
              "      quickchartButtonEl.disabled = true;  // To prevent multiple clicks.\n",
              "      quickchartButtonEl.classList.add('colab-df-spinner');\n",
              "      try {\n",
              "        const charts = await google.colab.kernel.invokeFunction(\n",
              "            'suggestCharts', [key], {});\n",
              "      } catch (error) {\n",
              "        console.error('Error during call to suggestCharts:', error);\n",
              "      }\n",
              "      quickchartButtonEl.classList.remove('colab-df-spinner');\n",
              "      quickchartButtonEl.classList.add('colab-df-quickchart-complete');\n",
              "    }\n",
              "    (() => {\n",
              "      let quickchartButtonEl =\n",
              "        document.querySelector('#df-0985fddc-5433-4497-b9d1-dbda12b68d3a button');\n",
              "      quickchartButtonEl.style.display =\n",
              "        google.colab.kernel.accessAllowed ? 'block' : 'none';\n",
              "    })();\n",
              "  </script>\n",
              "</div>\n",
              "\n",
              "    </div>\n",
              "  </div>\n"
            ],
            "application/vnd.google.colaboratory.intrinsic+json": {
              "type": "dataframe",
              "summary": "{\n  \"name\": \"X[['MonthlyCharges', 'TotalCharges']]\",\n  \"rows\": 5,\n  \"fields\": [\n    {\n      \"column\": \"MonthlyCharges\",\n      \"properties\": {\n        \"dtype\": \"number\",\n        \"std\": 0.30626802633938593,\n        \"min\": 0.1129353233830846,\n        \"max\": 0.8696517412935324,\n        \"num_unique_values\": 5,\n        \"samples\": [\n          0.845273631840796,\n          0.8696517412935324,\n          0.1129353233830846\n        ],\n        \"semantic_type\": \"\",\n        \"description\": \"\"\n      }\n    },\n    {\n      \"column\": \"TotalCharges\",\n      \"properties\": {\n        \"dtype\": \"number\",\n        \"std\": 0.40158217924326856,\n        \"min\": 0.033210246942072474,\n        \"max\": 0.8474613431802446,\n        \"num_unique_values\": 5,\n        \"samples\": [\n          0.8474613431802446,\n          0.7876413570274636,\n          0.03780867759058389\n        ],\n        \"semantic_type\": \"\",\n        \"description\": \"\"\n      }\n    }\n  ]\n}"
            }
          },
          "metadata": {},
          "execution_count": 25
        }
      ],
      "source": [
        "X[['MonthlyCharges', 'TotalCharges']].tail()            # The features are properly scaled"
      ]
    },
    {
      "cell_type": "code",
      "execution_count": 26,
      "metadata": {
        "colab": {
          "base_uri": "https://localhost:8080/"
        },
        "id": "fACuywXP4icz",
        "outputId": "4cd25a59-a80a-4021-e93b-e048155a3f78"
      },
      "outputs": [
        {
          "output_type": "execute_result",
          "data": {
            "text/plain": [
              "SeniorCitizen                                int64\n",
              "Partner                                      int64\n",
              "Dependents                                   int64\n",
              "tenure                                       int64\n",
              "PhoneService                                 int64\n",
              "Contract                                     int64\n",
              "PaperlessBilling                             int64\n",
              "MonthlyCharges                             float64\n",
              "TotalCharges                               float64\n",
              "InternetService_DSL                          uint8\n",
              "InternetService_Fiber optic                  uint8\n",
              "InternetService_No                           uint8\n",
              "MultipleLines_No                             uint8\n",
              "MultipleLines_No phone service               uint8\n",
              "MultipleLines_Yes                            uint8\n",
              "OnlineSecurity_No                            uint8\n",
              "OnlineSecurity_No internet service           uint8\n",
              "OnlineSecurity_Yes                           uint8\n",
              "OnlineBackup_No                              uint8\n",
              "OnlineBackup_No internet service             uint8\n",
              "OnlineBackup_Yes                             uint8\n",
              "DeviceProtection_No                          uint8\n",
              "DeviceProtection_No internet service         uint8\n",
              "DeviceProtection_Yes                         uint8\n",
              "TechSupport_No                               uint8\n",
              "TechSupport_No internet service              uint8\n",
              "TechSupport_Yes                              uint8\n",
              "StreamingTV_No                               uint8\n",
              "StreamingTV_No internet service              uint8\n",
              "StreamingTV_Yes                              uint8\n",
              "StreamingMovies_No                           uint8\n",
              "StreamingMovies_No internet service          uint8\n",
              "StreamingMovies_Yes                          uint8\n",
              "PaymentMethod_Bank transfer (automatic)      uint8\n",
              "PaymentMethod_Credit card (automatic)        uint8\n",
              "PaymentMethod_Electronic check               uint8\n",
              "PaymentMethod_Mailed check                   uint8\n",
              "gender_Female                                uint8\n",
              "gender_Male                                  uint8\n",
              "dtype: object"
            ]
          },
          "metadata": {},
          "execution_count": 26
        }
      ],
      "source": [
        "X.dtypes                # All categorical columns have been encoded"
      ]
    },
    {
      "cell_type": "code",
      "execution_count": 26,
      "metadata": {
        "id": "6HyvG_CXB8OF"
      },
      "outputs": [],
      "source": []
    },
    {
      "cell_type": "code",
      "execution_count": 27,
      "metadata": {
        "id": "fGP20kO1-t2A"
      },
      "outputs": [],
      "source": [
        "# Solve the imbalance\n",
        "from sklearn.model_selection import train_test_split\n",
        "from imblearn.over_sampling import SMOTE\n",
        "\n",
        "\n",
        "X_train, X_test, y_train, y_test = train_test_split(X, y, test_size = 0.15, random_state= 4)\n",
        "\n",
        "smote = SMOTE()\n",
        "\n",
        "X_train_resampled, y_train_resampled = smote.fit_resample(X_train, y_train)"
      ]
    },
    {
      "cell_type": "code",
      "execution_count": 28,
      "metadata": {
        "id": "Dk3VWBZBXuQ_",
        "outputId": "505ee74e-ff5b-48f9-ff12-fbe88b631b6e",
        "colab": {
          "base_uri": "https://localhost:8080/",
          "height": 472
        }
      },
      "outputs": [
        {
          "output_type": "display_data",
          "data": {
            "text/plain": [
              "<Figure size 640x480 with 1 Axes>"
            ],
            "image/png": "[encoded data removed]"
          },
          "metadata": {}
        }
      ],
      "source": [
        "plot_df2 = y_train_resampled.value_counts().reset_index()\n",
        "\n",
        "\n",
        "plt.bar(plot_df2['index'].astype('str'), plot_df2['Churn'])\n",
        "plt.title('Imbalace solved')\n",
        "plt.xlabel('Churn')\n",
        "plt.ylabel('Count')\n",
        "plt.show()"
      ]
    },
    {
      "cell_type": "markdown",
      "metadata": {
        "id": "tGHq59LS5KRP"
      },
      "source": [
        "**Model Building**"
      ]
    },
    {
      "cell_type": "code",
      "execution_count": 29,
      "metadata": {
        "id": "lXwUxq4p5Mpk"
      },
      "outputs": [],
      "source": [
        "from tensorflow import keras\n",
        "import tensorflow as tf\n",
        "from tensorflow.keras import metrics"
      ]
    },
    {
      "cell_type": "code",
      "execution_count": 30,
      "metadata": {
        "id": "8ZILZArE5VvS"
      },
      "outputs": [],
      "source": [
        "# Constructing Artificial Neural Network model architecture\n",
        "\n",
        "model = keras.Sequential([\n",
        "    keras.layers.Dense(600, input_shape = (39,), activation = 'relu'),\n",
        "    keras.layers.Dense(320, activation = 'relu'),\n",
        "    keras.layers.Dense(190, activation=keras.layers.LeakyReLU(alpha=0.16)),\n",
        "    keras.layers.Dense(190, activation = 'relu'),\n",
        "    keras.layers.Dense(70, activation = 'relu'),\n",
        "    keras.layers.Dense(1, activation = 'sigmoid')\n",
        "])\n",
        "\n",
        "# compile model\n",
        "model.compile(optimizer = 'SGD', loss = 'binary_crossentropy', metrics= ['accuracy', metrics.Precision()])"
      ]
    },
    {
      "cell_type": "code",
      "execution_count": 31,
      "metadata": {
        "colab": {
          "base_uri": "https://localhost:8080/"
        },
        "id": "5ewIER3FXuRC",
        "outputId": "524eeb2c-166e-4738-a5f2-7e5c02af5265"
      },
      "outputs": [
        {
          "output_type": "stream",
          "name": "stdout",
          "text": [
            "Epoch 1/100\n",
            "233/233 [==============================] - 7s 6ms/step - loss: 0.5846 - accuracy: 0.7149 - precision: 0.6887 - val_loss: 1.0284 - val_accuracy: 0.5266 - val_precision: 1.0000\n",
            "Epoch 2/100\n",
            "233/233 [==============================] - 1s 5ms/step - loss: 0.5415 - accuracy: 0.7455 - precision: 0.6899 - val_loss: 0.7128 - val_accuracy: 0.6362 - val_precision: 1.0000\n",
            "Epoch 3/100\n",
            "233/233 [==============================] - 1s 5ms/step - loss: 0.5223 - accuracy: 0.7549 - precision: 0.7093 - val_loss: 1.0734 - val_accuracy: 0.5061 - val_precision: 1.0000\n",
            "Epoch 4/100\n",
            "233/233 [==============================] - 2s 8ms/step - loss: 0.5041 - accuracy: 0.7580 - precision: 0.7228 - val_loss: 0.2859 - val_accuracy: 0.9384 - val_precision: 1.0000\n",
            "Epoch 5/100\n",
            "233/233 [==============================] - 2s 8ms/step - loss: 0.4890 - accuracy: 0.7662 - precision: 0.7382 - val_loss: 0.3643 - val_accuracy: 0.9300 - val_precision: 1.0000\n",
            "Epoch 6/100\n",
            "233/233 [==============================] - 1s 6ms/step - loss: 0.4786 - accuracy: 0.7695 - precision: 0.7383 - val_loss: 0.6551 - val_accuracy: 0.6073 - val_precision: 1.0000\n",
            "Epoch 7/100\n",
            "233/233 [==============================] - 1s 5ms/step - loss: 0.4790 - accuracy: 0.7675 - precision: 0.7421 - val_loss: 0.5337 - val_accuracy: 0.6826 - val_precision: 1.0000\n",
            "Epoch 8/100\n",
            "233/233 [==============================] - 1s 5ms/step - loss: 0.4698 - accuracy: 0.7740 - precision: 0.7479 - val_loss: 0.6122 - val_accuracy: 0.6240 - val_precision: 1.0000\n",
            "Epoch 9/100\n",
            "233/233 [==============================] - 1s 5ms/step - loss: 0.4677 - accuracy: 0.7793 - precision: 0.7529 - val_loss: 0.4244 - val_accuracy: 0.8288 - val_precision: 1.0000\n",
            "Epoch 10/100\n",
            "233/233 [==============================] - 1s 5ms/step - loss: 0.4640 - accuracy: 0.7750 - precision: 0.7424 - val_loss: 0.5152 - val_accuracy: 0.7283 - val_precision: 1.0000\n",
            "Epoch 11/100\n",
            "233/233 [==============================] - 2s 9ms/step - loss: 0.4625 - accuracy: 0.7819 - precision: 0.7498 - val_loss: 0.6796 - val_accuracy: 0.6279 - val_precision: 1.0000\n",
            "Epoch 12/100\n",
            "233/233 [==============================] - 2s 9ms/step - loss: 0.4585 - accuracy: 0.7806 - precision: 0.7479 - val_loss: 0.3335 - val_accuracy: 0.8691 - val_precision: 1.0000\n",
            "Epoch 13/100\n",
            "233/233 [==============================] - 4s 16ms/step - loss: 0.4553 - accuracy: 0.7855 - precision: 0.7515 - val_loss: 0.4037 - val_accuracy: 0.8341 - val_precision: 1.0000\n",
            "Epoch 14/100\n",
            "233/233 [==============================] - 3s 12ms/step - loss: 0.4490 - accuracy: 0.7874 - precision: 0.7492 - val_loss: 0.4948 - val_accuracy: 0.7420 - val_precision: 1.0000\n",
            "Epoch 15/100\n",
            "233/233 [==============================] - 2s 11ms/step - loss: 0.4527 - accuracy: 0.7859 - precision: 0.7483 - val_loss: 0.6008 - val_accuracy: 0.6728 - val_precision: 1.0000\n",
            "Epoch 16/100\n",
            "233/233 [==============================] - 2s 10ms/step - loss: 0.4472 - accuracy: 0.7869 - precision: 0.7494 - val_loss: 0.4911 - val_accuracy: 0.7580 - val_precision: 1.0000\n",
            "Epoch 17/100\n",
            "233/233 [==============================] - 2s 10ms/step - loss: 0.4508 - accuracy: 0.7855 - precision: 0.7467 - val_loss: 0.5069 - val_accuracy: 0.7473 - val_precision: 1.0000\n",
            "Epoch 18/100\n",
            "233/233 [==============================] - 3s 12ms/step - loss: 0.4456 - accuracy: 0.7861 - precision: 0.7459 - val_loss: 0.3968 - val_accuracy: 0.8615 - val_precision: 1.0000\n",
            "Epoch 19/100\n",
            "233/233 [==============================] - 3s 13ms/step - loss: 0.4437 - accuracy: 0.7881 - precision: 0.7468 - val_loss: 0.3873 - val_accuracy: 0.8478 - val_precision: 1.0000\n",
            "Epoch 20/100\n",
            "233/233 [==============================] - 1s 6ms/step - loss: 0.4449 - accuracy: 0.7913 - precision: 0.7512 - val_loss: 0.4831 - val_accuracy: 0.7732 - val_precision: 1.0000\n",
            "Epoch 21/100\n",
            "233/233 [==============================] - 1s 5ms/step - loss: 0.4409 - accuracy: 0.7912 - precision: 0.7489 - val_loss: 0.3881 - val_accuracy: 0.8668 - val_precision: 1.0000\n",
            "Epoch 22/100\n",
            "233/233 [==============================] - 2s 9ms/step - loss: 0.4417 - accuracy: 0.7881 - precision: 0.7444 - val_loss: 0.3453 - val_accuracy: 0.8912 - val_precision: 1.0000\n",
            "Epoch 23/100\n",
            "233/233 [==============================] - 2s 10ms/step - loss: 0.4397 - accuracy: 0.7910 - precision: 0.7453 - val_loss: 0.3801 - val_accuracy: 0.8569 - val_precision: 1.0000\n",
            "Epoch 24/100\n",
            "233/233 [==============================] - 3s 12ms/step - loss: 0.4381 - accuracy: 0.7917 - precision: 0.7526 - val_loss: 0.4942 - val_accuracy: 0.7565 - val_precision: 1.0000\n",
            "Epoch 25/100\n",
            "233/233 [==============================] - 3s 14ms/step - loss: 0.4381 - accuracy: 0.7941 - precision: 0.7527 - val_loss: 0.5166 - val_accuracy: 0.7390 - val_precision: 1.0000\n",
            "Epoch 26/100\n",
            "233/233 [==============================] - 3s 13ms/step - loss: 0.4361 - accuracy: 0.7929 - precision: 0.7518 - val_loss: 0.6351 - val_accuracy: 0.6788 - val_precision: 1.0000\n",
            "Epoch 27/100\n",
            "233/233 [==============================] - 2s 8ms/step - loss: 0.4311 - accuracy: 0.7964 - precision: 0.7570 - val_loss: 0.5727 - val_accuracy: 0.6880 - val_precision: 1.0000\n",
            "Epoch 28/100\n",
            "233/233 [==============================] - 2s 8ms/step - loss: 0.4306 - accuracy: 0.7971 - precision: 0.7586 - val_loss: 0.3423 - val_accuracy: 0.8699 - val_precision: 1.0000\n",
            "Epoch 29/100\n",
            "233/233 [==============================] - 2s 10ms/step - loss: 0.4329 - accuracy: 0.7955 - precision: 0.7525 - val_loss: 0.3428 - val_accuracy: 0.8965 - val_precision: 1.0000\n",
            "Epoch 30/100\n",
            "233/233 [==============================] - 2s 8ms/step - loss: 0.4252 - accuracy: 0.8008 - precision: 0.7581 - val_loss: 0.3371 - val_accuracy: 0.8935 - val_precision: 1.0000\n",
            "Epoch 31/100\n",
            "233/233 [==============================] - 2s 10ms/step - loss: 0.4250 - accuracy: 0.8011 - precision: 0.7591 - val_loss: 0.5666 - val_accuracy: 0.7040 - val_precision: 1.0000\n",
            "Epoch 32/100\n",
            "233/233 [==============================] - 2s 10ms/step - loss: 0.4253 - accuracy: 0.8010 - precision: 0.7588 - val_loss: 0.3456 - val_accuracy: 0.8782 - val_precision: 1.0000\n",
            "Epoch 33/100\n",
            "233/233 [==============================] - 2s 8ms/step - loss: 0.4253 - accuracy: 0.8010 - precision: 0.7609 - val_loss: 0.8199 - val_accuracy: 0.5913 - val_precision: 1.0000\n",
            "Epoch 34/100\n",
            "233/233 [==============================] - 1s 5ms/step - loss: 0.4257 - accuracy: 0.8049 - precision: 0.7647 - val_loss: 0.4653 - val_accuracy: 0.7702 - val_precision: 1.0000\n",
            "Epoch 35/100\n",
            "233/233 [==============================] - 1s 5ms/step - loss: 0.4249 - accuracy: 0.7985 - precision: 0.7586 - val_loss: 0.3177 - val_accuracy: 0.9049 - val_precision: 1.0000\n",
            "Epoch 36/100\n",
            "233/233 [==============================] - 1s 5ms/step - loss: 0.4197 - accuracy: 0.8059 - precision: 0.7710 - val_loss: 0.3471 - val_accuracy: 0.8798 - val_precision: 1.0000\n",
            "Epoch 37/100\n",
            "233/233 [==============================] - 1s 5ms/step - loss: 0.4210 - accuracy: 0.8037 - precision: 0.7673 - val_loss: 0.3205 - val_accuracy: 0.9132 - val_precision: 1.0000\n",
            "Epoch 38/100\n",
            "233/233 [==============================] - 1s 5ms/step - loss: 0.4208 - accuracy: 0.8030 - precision: 0.7662 - val_loss: 0.3519 - val_accuracy: 0.9033 - val_precision: 1.0000\n",
            "Epoch 39/100\n",
            "233/233 [==============================] - 1s 5ms/step - loss: 0.4157 - accuracy: 0.8078 - precision: 0.7715 - val_loss: 0.3272 - val_accuracy: 0.9018 - val_precision: 1.0000\n",
            "Epoch 40/100\n",
            "233/233 [==============================] - 1s 5ms/step - loss: 0.4172 - accuracy: 0.8034 - precision: 0.7652 - val_loss: 0.4543 - val_accuracy: 0.7694 - val_precision: 1.0000\n",
            "Epoch 41/100\n",
            "233/233 [==============================] - 1s 6ms/step - loss: 0.4157 - accuracy: 0.8069 - precision: 0.7706 - val_loss: 0.2123 - val_accuracy: 0.9559 - val_precision: 1.0000\n",
            "Epoch 42/100\n",
            "233/233 [==============================] - 2s 8ms/step - loss: 0.4144 - accuracy: 0.8054 - precision: 0.7659 - val_loss: 0.4563 - val_accuracy: 0.7900 - val_precision: 1.0000\n",
            "Epoch 43/100\n",
            "233/233 [==============================] - 2s 8ms/step - loss: 0.4114 - accuracy: 0.8066 - precision: 0.7728 - val_loss: 0.5965 - val_accuracy: 0.6971 - val_precision: 1.0000\n",
            "Epoch 44/100\n",
            "233/233 [==============================] - 1s 5ms/step - loss: 0.4115 - accuracy: 0.8070 - precision: 0.7714 - val_loss: 0.4279 - val_accuracy: 0.7945 - val_precision: 1.0000\n",
            "Epoch 45/100\n",
            "233/233 [==============================] - 1s 5ms/step - loss: 0.4111 - accuracy: 0.8061 - precision: 0.7720 - val_loss: 0.3794 - val_accuracy: 0.8311 - val_precision: 1.0000\n",
            "Epoch 46/100\n",
            "233/233 [==============================] - 1s 5ms/step - loss: 0.4104 - accuracy: 0.8075 - precision: 0.7767 - val_loss: 0.1278 - val_accuracy: 0.9871 - val_precision: 1.0000\n",
            "Epoch 47/100\n",
            "233/233 [==============================] - 1s 5ms/step - loss: 0.4086 - accuracy: 0.8074 - precision: 0.7755 - val_loss: 0.2729 - val_accuracy: 0.9125 - val_precision: 1.0000\n",
            "Epoch 48/100\n",
            "233/233 [==============================] - 1s 5ms/step - loss: 0.4028 - accuracy: 0.8137 - precision: 0.7841 - val_loss: 0.4792 - val_accuracy: 0.7557 - val_precision: 1.0000\n",
            "Epoch 49/100\n",
            "233/233 [==============================] - 1s 5ms/step - loss: 0.4021 - accuracy: 0.8118 - precision: 0.7802 - val_loss: 0.4961 - val_accuracy: 0.7603 - val_precision: 1.0000\n",
            "Epoch 50/100\n",
            "233/233 [==============================] - 1s 5ms/step - loss: 0.4016 - accuracy: 0.8120 - precision: 0.7780 - val_loss: 0.3635 - val_accuracy: 0.8425 - val_precision: 1.0000\n",
            "Epoch 51/100\n",
            "233/233 [==============================] - 1s 5ms/step - loss: 0.4061 - accuracy: 0.8059 - precision: 0.7735 - val_loss: 0.2179 - val_accuracy: 0.9566 - val_precision: 1.0000\n",
            "Epoch 52/100\n",
            "233/233 [==============================] - 1s 6ms/step - loss: 0.3985 - accuracy: 0.8148 - precision: 0.7807 - val_loss: 0.1226 - val_accuracy: 0.9779 - val_precision: 1.0000\n",
            "Epoch 53/100\n",
            "233/233 [==============================] - 2s 7ms/step - loss: 0.4035 - accuracy: 0.8105 - precision: 0.7793 - val_loss: 0.5356 - val_accuracy: 0.7199 - val_precision: 1.0000\n",
            "Epoch 54/100\n",
            "233/233 [==============================] - 2s 8ms/step - loss: 0.4036 - accuracy: 0.8127 - precision: 0.7829 - val_loss: 0.2815 - val_accuracy: 0.9102 - val_precision: 1.0000\n",
            "Epoch 55/100\n",
            "233/233 [==============================] - 1s 5ms/step - loss: 0.3981 - accuracy: 0.8109 - precision: 0.7752 - val_loss: 0.8799 - val_accuracy: 0.5008 - val_precision: 1.0000\n",
            "Epoch 56/100\n",
            "233/233 [==============================] - 1s 5ms/step - loss: 0.3993 - accuracy: 0.8153 - precision: 0.7854 - val_loss: 0.1511 - val_accuracy: 0.9619 - val_precision: 1.0000\n",
            "Epoch 57/100\n",
            "233/233 [==============================] - 1s 5ms/step - loss: 0.3997 - accuracy: 0.8139 - precision: 0.7873 - val_loss: 0.1087 - val_accuracy: 0.9878 - val_precision: 1.0000\n",
            "Epoch 58/100\n",
            "233/233 [==============================] - 1s 5ms/step - loss: 0.3949 - accuracy: 0.8175 - precision: 0.7854 - val_loss: 0.4363 - val_accuracy: 0.7839 - val_precision: 1.0000\n",
            "Epoch 59/100\n",
            "233/233 [==============================] - 1s 5ms/step - loss: 0.3954 - accuracy: 0.8165 - precision: 0.7887 - val_loss: 0.4249 - val_accuracy: 0.7900 - val_precision: 1.0000\n",
            "Epoch 60/100\n",
            "233/233 [==============================] - 1s 5ms/step - loss: 0.3936 - accuracy: 0.8182 - precision: 0.7898 - val_loss: 0.3417 - val_accuracy: 0.8349 - val_precision: 1.0000\n",
            "Epoch 61/100\n",
            "233/233 [==============================] - 1s 5ms/step - loss: 0.3934 - accuracy: 0.8159 - precision: 0.7847 - val_loss: 0.2577 - val_accuracy: 0.9064 - val_precision: 1.0000\n",
            "Epoch 62/100\n",
            "233/233 [==============================] - 1s 5ms/step - loss: 0.3969 - accuracy: 0.8180 - precision: 0.7943 - val_loss: 0.5695 - val_accuracy: 0.6819 - val_precision: 1.0000\n",
            "Epoch 63/100\n",
            "233/233 [==============================] - 2s 7ms/step - loss: 0.3920 - accuracy: 0.8156 - precision: 0.7853 - val_loss: 0.0543 - val_accuracy: 0.9954 - val_precision: 1.0000\n",
            "Epoch 64/100\n",
            "233/233 [==============================] - 2s 8ms/step - loss: 0.3903 - accuracy: 0.8191 - precision: 0.7928 - val_loss: 0.2319 - val_accuracy: 0.9315 - val_precision: 1.0000\n",
            "Epoch 65/100\n",
            "233/233 [==============================] - 1s 5ms/step - loss: 0.3886 - accuracy: 0.8176 - precision: 0.7893 - val_loss: 0.1572 - val_accuracy: 0.9642 - val_precision: 1.0000\n",
            "Epoch 66/100\n",
            "233/233 [==============================] - 1s 5ms/step - loss: 0.3889 - accuracy: 0.8192 - precision: 0.7909 - val_loss: 0.5161 - val_accuracy: 0.7268 - val_precision: 1.0000\n",
            "Epoch 67/100\n",
            "233/233 [==============================] - 1s 5ms/step - loss: 0.3902 - accuracy: 0.8168 - precision: 0.7895 - val_loss: 0.3550 - val_accuracy: 0.8280 - val_precision: 1.0000\n",
            "Epoch 68/100\n",
            "233/233 [==============================] - 1s 6ms/step - loss: 0.4150 - accuracy: 0.8124 - precision: 0.7855 - val_loss: 0.4994 - val_accuracy: 0.7443 - val_precision: 1.0000\n",
            "Epoch 69/100\n",
            "233/233 [==============================] - 1s 5ms/step - loss: 0.3954 - accuracy: 0.8167 - precision: 0.7880 - val_loss: 0.5227 - val_accuracy: 0.7222 - val_precision: 1.0000\n",
            "Epoch 70/100\n",
            "233/233 [==============================] - 1s 5ms/step - loss: 0.3889 - accuracy: 0.8206 - precision: 0.7905 - val_loss: 0.1749 - val_accuracy: 0.9513 - val_precision: 1.0000\n",
            "Epoch 71/100\n",
            "233/233 [==============================] - 1s 5ms/step - loss: 0.3888 - accuracy: 0.8249 - precision: 0.7960 - val_loss: 0.1557 - val_accuracy: 0.9779 - val_precision: 1.0000\n",
            "Epoch 72/100\n",
            "233/233 [==============================] - 1s 5ms/step - loss: 0.3851 - accuracy: 0.8219 - precision: 0.7919 - val_loss: 0.4556 - val_accuracy: 0.7755 - val_precision: 1.0000\n",
            "Epoch 73/100\n",
            "233/233 [==============================] - 2s 7ms/step - loss: 0.3859 - accuracy: 0.8212 - precision: 0.7976 - val_loss: 0.3564 - val_accuracy: 0.8394 - val_precision: 1.0000\n",
            "Epoch 74/100\n",
            "233/233 [==============================] - 2s 7ms/step - loss: 0.3859 - accuracy: 0.8230 - precision: 0.8010 - val_loss: 0.3888 - val_accuracy: 0.8288 - val_precision: 1.0000\n",
            "Epoch 75/100\n",
            "233/233 [==============================] - 2s 9ms/step - loss: 0.3852 - accuracy: 0.8222 - precision: 0.7979 - val_loss: 0.4970 - val_accuracy: 0.7725 - val_precision: 1.0000\n",
            "Epoch 76/100\n",
            "233/233 [==============================] - 1s 5ms/step - loss: 0.3836 - accuracy: 0.8253 - precision: 0.8027 - val_loss: 0.3116 - val_accuracy: 0.8683 - val_precision: 1.0000\n",
            "Epoch 77/100\n",
            "233/233 [==============================] - 1s 5ms/step - loss: 0.3815 - accuracy: 0.8254 - precision: 0.8053 - val_loss: 0.2684 - val_accuracy: 0.9003 - val_precision: 1.0000\n",
            "Epoch 78/100\n",
            "233/233 [==============================] - 1s 5ms/step - loss: 0.3809 - accuracy: 0.8250 - precision: 0.8018 - val_loss: 0.1837 - val_accuracy: 0.9368 - val_precision: 1.0000\n",
            "Epoch 79/100\n",
            "233/233 [==============================] - 1s 5ms/step - loss: 0.3786 - accuracy: 0.8253 - precision: 0.8080 - val_loss: 0.4601 - val_accuracy: 0.7725 - val_precision: 1.0000\n",
            "Epoch 80/100\n",
            "233/233 [==============================] - 1s 5ms/step - loss: 0.3798 - accuracy: 0.8239 - precision: 0.8059 - val_loss: 0.1636 - val_accuracy: 0.9543 - val_precision: 1.0000\n",
            "Epoch 81/100\n",
            "233/233 [==============================] - 1s 5ms/step - loss: 0.3797 - accuracy: 0.8230 - precision: 0.8022 - val_loss: 0.6175 - val_accuracy: 0.6735 - val_precision: 1.0000\n",
            "Epoch 82/100\n",
            "233/233 [==============================] - 1s 5ms/step - loss: 0.3763 - accuracy: 0.8253 - precision: 0.8076 - val_loss: 0.0707 - val_accuracy: 0.9878 - val_precision: 1.0000\n",
            "Epoch 83/100\n",
            "233/233 [==============================] - 1s 5ms/step - loss: 0.3776 - accuracy: 0.8251 - precision: 0.8123 - val_loss: 0.1349 - val_accuracy: 0.9604 - val_precision: 1.0000\n",
            "Epoch 84/100\n",
            "233/233 [==============================] - 2s 7ms/step - loss: 0.3803 - accuracy: 0.8286 - precision: 0.8090 - val_loss: 0.1932 - val_accuracy: 0.9300 - val_precision: 1.0000\n",
            "Epoch 85/100\n",
            "233/233 [==============================] - 2s 7ms/step - loss: 0.3741 - accuracy: 0.8290 - precision: 0.8097 - val_loss: 0.5616 - val_accuracy: 0.7207 - val_precision: 1.0000\n",
            "Epoch 86/100\n",
            "233/233 [==============================] - 1s 5ms/step - loss: 0.3733 - accuracy: 0.8286 - precision: 0.8099 - val_loss: 0.5728 - val_accuracy: 0.7154 - val_precision: 1.0000\n",
            "Epoch 87/100\n",
            "233/233 [==============================] - 1s 6ms/step - loss: 0.3730 - accuracy: 0.8280 - precision: 0.8098 - val_loss: 0.3385 - val_accuracy: 0.8295 - val_precision: 1.0000\n",
            "Epoch 88/100\n",
            "233/233 [==============================] - 1s 5ms/step - loss: 0.3768 - accuracy: 0.8243 - precision: 0.8113 - val_loss: 0.3295 - val_accuracy: 0.8493 - val_precision: 1.0000\n",
            "Epoch 89/100\n",
            "233/233 [==============================] - 1s 5ms/step - loss: 0.3743 - accuracy: 0.8289 - precision: 0.8073 - val_loss: 0.1655 - val_accuracy: 0.9574 - val_precision: 1.0000\n",
            "Epoch 90/100\n",
            "233/233 [==============================] - 1s 5ms/step - loss: 0.3759 - accuracy: 0.8238 - precision: 0.8051 - val_loss: 0.4271 - val_accuracy: 0.7892 - val_precision: 1.0000\n",
            "Epoch 91/100\n",
            "233/233 [==============================] - 1s 5ms/step - loss: 0.3690 - accuracy: 0.8320 - precision: 0.8130 - val_loss: 0.1859 - val_accuracy: 0.9467 - val_precision: 1.0000\n",
            "Epoch 92/100\n",
            "233/233 [==============================] - 1s 5ms/step - loss: 0.3715 - accuracy: 0.8281 - precision: 0.8094 - val_loss: 0.4186 - val_accuracy: 0.7953 - val_precision: 1.0000\n",
            "Epoch 93/100\n",
            "233/233 [==============================] - 1s 6ms/step - loss: 0.3685 - accuracy: 0.8333 - precision: 0.8198 - val_loss: 0.3691 - val_accuracy: 0.8234 - val_precision: 1.0000\n",
            "Epoch 94/100\n",
            "233/233 [==============================] - 2s 7ms/step - loss: 0.3657 - accuracy: 0.8333 - precision: 0.8183 - val_loss: 0.1933 - val_accuracy: 0.9072 - val_precision: 1.0000\n",
            "Epoch 95/100\n",
            "233/233 [==============================] - 3s 12ms/step - loss: 0.3711 - accuracy: 0.8251 - precision: 0.8082 - val_loss: 0.2289 - val_accuracy: 0.9049 - val_precision: 1.0000\n",
            "Epoch 96/100\n",
            "233/233 [==============================] - 1s 5ms/step - loss: 0.3710 - accuracy: 0.8300 - precision: 0.8089 - val_loss: 0.1909 - val_accuracy: 0.9254 - val_precision: 1.0000\n",
            "Epoch 97/100\n",
            "233/233 [==============================] - 1s 5ms/step - loss: 0.3682 - accuracy: 0.8336 - precision: 0.8175 - val_loss: 0.1869 - val_accuracy: 0.9475 - val_precision: 1.0000\n",
            "Epoch 98/100\n",
            "233/233 [==============================] - 1s 5ms/step - loss: 0.3650 - accuracy: 0.8320 - precision: 0.8148 - val_loss: 1.0388 - val_accuracy: 0.3988 - val_precision: 1.0000\n",
            "Epoch 99/100\n",
            "233/233 [==============================] - 1s 5ms/step - loss: 0.3662 - accuracy: 0.8323 - precision: 0.8209 - val_loss: 0.2500 - val_accuracy: 0.8995 - val_precision: 1.0000\n",
            "Epoch 100/100\n",
            "233/233 [==============================] - 1s 5ms/step - loss: 0.3681 - accuracy: 0.8313 - precision: 0.8191 - val_loss: 0.2225 - val_accuracy: 0.9102 - val_precision: 1.0000\n"
          ]
        },
        {
          "output_type": "execute_result",
          "data": {
            "text/plain": [
              "<keras.src.callbacks.History at 0x7911f185eb30>"
            ]
          },
          "metadata": {},
          "execution_count": 31
        }
      ],
      "source": [
        "#  Train model\n",
        "model.fit(X_train_resampled, y_train_resampled, epochs = 100, validation_split = 0.15)"
      ]
    },
    {
      "cell_type": "code",
      "execution_count": 32,
      "metadata": {
        "colab": {
          "base_uri": "https://localhost:8080/"
        },
        "id": "VAHfr8jnXuRD",
        "outputId": "7aa7e2ad-651f-4b71-b288-e65b7581b37c"
      },
      "outputs": [
        {
          "output_type": "stream",
          "name": "stdout",
          "text": [
            "33/33 [==============================] - 0s 3ms/step\n"
          ]
        },
        {
          "output_type": "execute_result",
          "data": {
            "text/plain": [
              "array([[0.25329667],\n",
              "       [0.17583841],\n",
              "       [0.07357672],\n",
              "       ...,\n",
              "       [0.3885967 ],\n",
              "       [0.37918252],\n",
              "       [0.01549548]], dtype=float32)"
            ]
          },
          "metadata": {},
          "execution_count": 32
        }
      ],
      "source": [
        "# make predictions\n",
        "dl_predictions = model.predict(X_test)\n",
        "dl_predictions"
      ]
    },
    {
      "cell_type": "code",
      "execution_count": 33,
      "metadata": {
        "colab": {
          "base_uri": "https://localhost:8080/"
        },
        "id": "X4rB5HIEXuRG",
        "outputId": "ed72e1dc-4564-4fb7-909c-46f9809ce280"
      },
      "outputs": [
        {
          "output_type": "execute_result",
          "data": {
            "text/plain": [
              "array([[0],\n",
              "       [0],\n",
              "       [0],\n",
              "       ...,\n",
              "       [0],\n",
              "       [0],\n",
              "       [0]])"
            ]
          },
          "metadata": {},
          "execution_count": 33
        }
      ],
      "source": [
        "# converting values to Binary digits\n",
        "def convert_to_binary(predictions, threshold= 0.5):\n",
        "    binary_predictions = np.where(predictions > threshold, 1, 0)\n",
        "    return binary_predictions\n",
        "\n",
        "binary_predictions = convert_to_binary(dl_predictions)\n",
        "binary_predictions\n"
      ]
    },
    {
      "cell_type": "code",
      "execution_count": 34,
      "metadata": {
        "colab": {
          "base_uri": "https://localhost:8080/"
        },
        "id": "kwMw2BsSXuRj",
        "outputId": "36debf55-41d9-4e8b-8f7a-84dab8537f05"
      },
      "outputs": [
        {
          "output_type": "stream",
          "name": "stdout",
          "text": [
            "              precision    recall  f1-score   support\n",
            "\n",
            "           0       0.86      0.86      0.86       783\n",
            "           1       0.60      0.59      0.59       272\n",
            "\n",
            "    accuracy                           0.79      1055\n",
            "   macro avg       0.73      0.73      0.73      1055\n",
            "weighted avg       0.79      0.79      0.79      1055\n",
            "\n"
          ]
        }
      ],
      "source": [
        "from sklearn.metrics import classification_report\n",
        "\n",
        "print(classification_report(y_test, binary_predictions))"
      ]
    },
    {
      "cell_type": "markdown",
      "metadata": {
        "id": "5txDzmjbXuRk"
      },
      "source": [
        "# Trying other models"
      ]
    },
    {
      "cell_type": "markdown",
      "metadata": {
        "id": "vVhW3CbOXuRk"
      },
      "source": [
        "I will compare performance of different models to Neural Networks"
      ]
    },
    {
      "cell_type": "code",
      "execution_count": 35,
      "metadata": {
        "id": "twgPSvEEXuRl"
      },
      "outputs": [],
      "source": [
        "from sklearn.linear_model import LogisticRegression\n",
        "from sklearn.ensemble import RandomForestClassifier, GradientBoostingClassifier\n",
        "from sklearn.svm import SVC\n",
        "from xgboost import XGBClassifier"
      ]
    },
    {
      "cell_type": "code",
      "execution_count": 35,
      "metadata": {
        "id": "ZzMSzKrxXuRm"
      },
      "outputs": [],
      "source": []
    },
    {
      "cell_type": "code",
      "execution_count": 45,
      "metadata": {
        "colab": {
          "base_uri": "https://localhost:8080/"
        },
        "id": "KE5LCESIXuRm",
        "outputId": "777dcda2-b39c-4c0e-e5f4-f6046bcbcea0"
      },
      "outputs": [
        {
          "output_type": "stream",
          "name": "stdout",
          "text": [
            "XGBoost Classifier \n",
            "              precision    recall  f1-score   support\n",
            "\n",
            "           0       0.84      0.86      0.85       783\n",
            "           1       0.58      0.53      0.55       272\n",
            "\n",
            "    accuracy                           0.78      1055\n",
            "   macro avg       0.71      0.70      0.70      1055\n",
            "weighted avg       0.77      0.78      0.78      1055\n",
            "\n"
          ]
        },
        {
          "output_type": "stream",
          "name": "stderr",
          "text": [
            "/usr/local/lib/python3.10/dist-packages/sklearn/linear_model/_logistic.py:458: ConvergenceWarning: lbfgs failed to converge (status=1):\n",
            "STOP: TOTAL NO. of ITERATIONS REACHED LIMIT.\n",
            "\n",
            "Increase the number of iterations (max_iter) or scale the data as shown in:\n",
            "    https://scikit-learn.org/stable/modules/preprocessing.html\n",
            "Please also refer to the documentation for alternative solver options:\n",
            "    https://scikit-learn.org/stable/modules/linear_model.html#logistic-regression\n",
            "  n_iter_i = _check_optimize_result(\n"
          ]
        },
        {
          "output_type": "stream",
          "name": "stdout",
          "text": [
            "Logistic Regression\n",
            "               precision    recall  f1-score   support\n",
            "\n",
            "           0       0.88      0.84      0.86       783\n",
            "           1       0.59      0.66      0.62       272\n",
            "\n",
            "    accuracy                           0.79      1055\n",
            "   macro avg       0.73      0.75      0.74      1055\n",
            "weighted avg       0.80      0.79      0.80      1055\n",
            "\n",
            "Random Forest Classifier\n",
            "               precision    recall  f1-score   support\n",
            "\n",
            "           0       0.85      0.88      0.86       783\n",
            "           1       0.60      0.54      0.57       272\n",
            "\n",
            "    accuracy                           0.79      1055\n",
            "   macro avg       0.73      0.71      0.72      1055\n",
            "weighted avg       0.78      0.79      0.79      1055\n",
            "\n",
            "Gradient Boosting \n",
            "              precision    recall  f1-score   support\n",
            "\n",
            "           0       0.88      0.81      0.85       783\n",
            "           1       0.56      0.68      0.61       272\n",
            "\n",
            "    accuracy                           0.78      1055\n",
            "   macro avg       0.72      0.75      0.73      1055\n",
            "weighted avg       0.80      0.78      0.79      1055\n",
            "\n",
            "Support Vector Machines \n",
            "              precision    recall  f1-score   support\n",
            "\n",
            "           0       0.90      0.76      0.82       783\n",
            "           1       0.52      0.75      0.61       272\n",
            "\n",
            "    accuracy                           0.76      1055\n",
            "   macro avg       0.71      0.75      0.72      1055\n",
            "weighted avg       0.80      0.76      0.77      1055\n",
            ")\n"
          ]
        }
      ],
      "source": [
        "log_reg = LogisticRegression(random_state = 43)\n",
        "rfc = RandomForestClassifier(random_state = 43)\n",
        "gbc = GradientBoostingClassifier(random_state = 43)\n",
        "svm = SVC(kernel = 'rbf', random_state = 43)\n",
        "xgb = XGBClassifier(random_state = 43)\n",
        "\n",
        "\n",
        "#                   XGBoost Classifier\n",
        "xgb.fit(X_train_resampled, y_train_resampled)\n",
        "xgb_pred = xgb.predict(X_test)\n",
        "\n",
        "#            evaluation\n",
        "\n",
        "print(f\"XGBoost Classifier \\n{classification_report(y_test, xgb_pred)}\")\n",
        "\n",
        "\n",
        "#                   LOGISTIC REGRESSION\n",
        "log_reg.fit(X_train_resampled, y_train_resampled)\n",
        "log_predictions = log_reg.predict(X_test)\n",
        "\n",
        "#            evaluation\n",
        "\n",
        "print(f\"Logistic Regression\\n {classification_report(y_test, log_predictions)}\")\n",
        "\n",
        "\n",
        "\n",
        "#                   RANDOM FOREST CLASSIFIER\n",
        "rfc.fit(X_train_resampled, y_train_resampled)\n",
        "rfc_predictions = rfc.predict(X_test)\n",
        "\n",
        "#            evaluation\n",
        "print(f\"Random Forest Classifier\\n {classification_report(y_test, rfc_predictions)}\")\n",
        "\n",
        "\n",
        "#                   GRADIENT BOOSTING\n",
        "gbc.fit(X_train_resampled, y_train_resampled)\n",
        "gbc_predictions = gbc.predict(X_test)\n",
        "\n",
        "#            evaluation\n",
        "\n",
        "print(f\"Gradient Boosting \\n{classification_report(y_test, gbc_predictions)}\")\n",
        "\n",
        "\n",
        "\n",
        "#                   SVM\n",
        "svm.fit(X_train_resampled, y_train_resampled)\n",
        "svm_predictions = svm.predict(X_test)\n",
        "\n",
        "#            evaluation\n",
        "print(f\"Support Vector Machines \\n{classification_report(y_test, svm_predictions)})\")"
      ]
    },
    {
      "cell_type": "code",
      "execution_count": 46,
      "metadata": {
        "colab": {
          "base_uri": "https://localhost:8080/",
          "height": 907
        },
        "id": "ulFQNIy7XuRo",
        "outputId": "3f01faac-c7ab-432d-f73b-d2ec04b735e3"
      },
      "outputs": [
        {
          "output_type": "display_data",
          "data": {
            "text/plain": [
              "<Figure size 1000x900 with 10 Axes>"
            ],
            "image/png": "[encoded data removed]"
          },
          "metadata": {}
        }
      ],
      "source": [
        "from sklearn.metrics import accuracy_score, precision_score, f1_score\n",
        "\n",
        "# scores for XGBoost Classifier\n",
        "xgb_acc_score = accuracy_score(y_test, xgb_pred)\n",
        "xgb_prec_score = precision_score(y_test, xgb_pred)\n",
        "xgb_f1_score = f1_score(y_test, xgb_pred)\n",
        "\n",
        "\n",
        "# scores for logistic regression\n",
        "log_acc_score = accuracy_score(y_test, log_predictions)\n",
        "log_prec_score = precision_score(y_test, log_predictions)\n",
        "log_f1_score = f1_score(y_test, log_predictions)\n",
        "\n",
        "# scores for random forest classifier\n",
        "rfc_acc_score = accuracy_score(y_test, rfc_predictions)\n",
        "rfc_prec_score = precision_score(y_test, rfc_predictions)\n",
        "rfc_f1_score = f1_score(y_test, rfc_predictions)\n",
        "\n",
        "# scores for gradient boosting classifier\n",
        "gbc_acc_score = accuracy_score(y_test, gbc_predictions)\n",
        "gbc_prec_score = precision_score(y_test, gbc_predictions)\n",
        "gbc_f1_score = f1_score(y_test, gbc_predictions)\n",
        "\n",
        "# scores for support vector machines\n",
        "svm_acc_score = accuracy_score(y_test, svm_predictions)\n",
        "svm_prec_score = precision_score(y_test, svm_predictions)\n",
        "svm_f1_score = f1_score(y_test, svm_predictions)\n",
        "\n",
        "# scores for artificial neural network\n",
        "dl_acc_score = accuracy_score(y_test, svm_predictions)\n",
        "dl_prec_score = precision_score(y_test, svm_predictions)\n",
        "dl_f1_score = f1_score(y_test, svm_predictions)\n",
        "\n",
        "\n",
        "\n",
        "#  prepare for plots\n",
        "\n",
        "xgb_metrics = ['Accuracy', 'Precision', 'f1-score']\n",
        "xgb_scores = [xgb_acc_score, xgb_prec_score, xgb_f1_score]\n",
        "\n",
        "\n",
        "logistic_regression_metrics = ['Accuracy', 'Precision', 'f1-score']\n",
        "logistic_regression_scores = [log_acc_score, log_prec_score, log_f1_score]\n",
        "\n",
        "rfc_metrics = ['Accuracy', 'Precision', 'f1-score']\n",
        "rfc_scores = [rfc_acc_score, rfc_prec_score, rfc_f1_score]\n",
        "\n",
        "gbc_metrics = ['Accuracy', 'Precision', 'f1-score']\n",
        "gbc_scores = [gbc_acc_score, gbc_prec_score, gbc_f1_score]\n",
        "\n",
        "svm_metrics = ['Accuracy', 'Precision', 'f1-score']\n",
        "svm_scores = [svm_acc_score, svm_prec_score, svm_f1_score]\n",
        "\n",
        "dl_metrics = ['Accuracy', 'Precision', 'f1-score']\n",
        "dl_scores = [dl_acc_score, dl_prec_score, dl_f1_score]\n",
        "\n",
        "\n",
        "# plotting the scores vs Neural Network\n",
        "def plot_texts(scores):\n",
        "    for index, score in enumerate(scores):\n",
        "        plt.text(x=index, y= score+0.004, s=str(round(score,1)), ha='center')\n",
        "\n",
        "\n",
        "fig, ax = plt.subplots(5, 2, figsize = (10, 9))\n",
        "\n",
        "ax[0, 0].bar(logistic_regression_metrics, logistic_regression_scores, color = 'Pink')\n",
        "ax[0, 0].set_ylim(0, 1)\n",
        "ax[0, 0].set_title('Logistic Regression')\n",
        "ax[0, 0].set_ylabel('scores')\n",
        "ax[0, 1].bar(dl_metrics, dl_scores)\n",
        "ax[0, 1].set_ylim(0, 1)\n",
        "ax[0, 1].set_title('Neural Networks')\n",
        "for index, score in enumerate(logistic_regression_scores):\n",
        "    ax[0, 0].text(x=index, y= score+0.006, s=str(round(score,2)), ha='center')\n",
        "for index, score in enumerate(dl_scores):\n",
        "    ax[0, 1].text(x=index, y= score+0.006, s=str(round(score,2)), ha='center')\n",
        "\n",
        "\n",
        "ax[1, 0].bar(rfc_metrics, rfc_scores)\n",
        "ax[1, 0].set_ylim(0, 1)\n",
        "ax[1, 0].set_title('Random Forest Classifier')\n",
        "ax[1, 0].set_ylabel('scores')\n",
        "ax[1, 1].bar(dl_metrics, dl_scores)\n",
        "ax[1, 1].set_ylim(0, 1)\n",
        "ax[1, 1].set_title('Neural Networks')\n",
        "for index, score in enumerate(rfc_scores):\n",
        "    ax[1, 0].text(x=index, y= score+0.006, s=str(round(score,2)), ha='center')\n",
        "for index, score in enumerate(dl_scores):\n",
        "    ax[1, 1].text(x=index, y= score+0.006, s=str(round(score,2)), ha='center')\n",
        "\n",
        "\n",
        "ax[2, 0].bar(gbc_metrics, gbc_scores)\n",
        "ax[2, 0].set_ylim(0, 1)\n",
        "ax[2, 0].set_ylabel('scores')\n",
        "ax[2, 0].set_title('Gradient Boosting Classifier')\n",
        "ax[2, 1].bar(dl_metrics, dl_scores)\n",
        "ax[2, 1].set_ylim(0, 1)\n",
        "ax[2, 1].set_ylabel('scores')\n",
        "ax[2, 1].set_title('Neural Networks')\n",
        "for index, score in enumerate(gbc_scores):\n",
        "    ax[2, 0].text(x=index, y= score+0.006, s=str(round(score,2)), ha='center')\n",
        "for index, score in enumerate(dl_scores):\n",
        "    ax[2, 1].text(x=index, y= score+0.006, s=str(round(score,2)), ha='center')\n",
        "\n",
        "\n",
        "ax[3, 0].bar(svm_metrics, svm_scores)\n",
        "ax[3, 0].set_ylabel('scores')\n",
        "ax[3, 0].set_ylim(0, 1)\n",
        "ax[3, 0].set_title('Support Vector Machines')\n",
        "ax[3, 1].bar(dl_metrics, dl_scores)\n",
        "ax[3, 1].set_ylim(0, 1)\n",
        "ax[3, 1].set_title('Neural Networks')\n",
        "for index, score in enumerate(svm_scores):\n",
        "    ax[3, 0].text(x=index, y= score+0.006, s=str(round(score,2)), ha='center')\n",
        "for index, score in enumerate(dl_scores):\n",
        "    ax[3, 1].text(x=index, y= score+0.006, s=str(round(score,2)), ha='center')\n",
        "\n",
        "\n",
        "ax[4, 0].bar(xgb_metrics, xgb_scores)\n",
        "ax[4, 0].set_ylabel('scores')\n",
        "ax[4, 0].set_ylim(0, 1)\n",
        "ax[4, 0].set_title('XGBoost Classifier')\n",
        "ax[4, 1].bar(dl_metrics, dl_scores)\n",
        "ax[4, 1].set_ylim(0, 1)\n",
        "ax[4, 1].set_title('Neural Networks')\n",
        "for index, score in enumerate(xgb_scores):\n",
        "    ax[4, 0].text(x=index, y= score+0.006, s=str(round(score,2)), ha='center')\n",
        "for index, score in enumerate(dl_scores):\n",
        "    ax[4, 1].text(x=index, y= score+0.006, s=str(round(score,2)), ha='center')\n",
        "\n",
        "plt.tight_layout()\n",
        "plt.show()\n"
      ]
    },
    {
      "cell_type": "markdown",
      "metadata": {
        "id": "Ndfy4iLtXuRq"
      },
      "source": [
        "For this problem, Logistic Regression and the Gradient Boosting Classifier seem to slightly outperform the others."
      ]
    },
    {
      "cell_type": "markdown",
      "metadata": {
        "id": "X_8vN-kcXuRq"
      },
      "source": [
        "# Hyperparameter Tuning - Random Forest Regressor"
      ]
    },
    {
      "cell_type": "code",
      "source": [
        "!pip install optuna"
      ],
      "metadata": {
        "id": "aa-LPPF6-jhM"
      },
      "execution_count": null,
      "outputs": []
    },
    {
      "cell_type": "code",
      "source": [
        "import optuna\n",
        "from sklearn.model_selection import cross_val_score\n",
        "\n",
        "# Random Forest Classifier\n",
        "\n",
        "# Define the objective function to be optimized by Optuna\n",
        "def objective(trial):\n",
        "    # Define hyperparameters to be optimized\n",
        "    max_depth = trial.suggest_int('max_depth', 2, 32, log=True)\n",
        "    n_estimators = trial.suggest_int('n_estimators', 100, 1000, step=100)\n",
        "    min_samples_split = trial.suggest_float('min_samples_split', 0.1, 1.0)\n",
        "    min_samples_leaf = trial.suggest_float('min_samples_leaf', 0.1, 0.5)\n",
        "\n",
        "    # Fit a model using the current hyperparameters\n",
        "    model = RandomForestClassifier(n_estimators = n_estimators, max_depth = max_depth, min_samples_split = min_samples_split, min_samples_leaf = min_samples_leaf, random_state = 43)\n",
        "    model.fit(X_train_resampled, y_train_resampled)\n",
        "\n",
        "    # Evaluate the model on the test set\n",
        "    score = cross_val_score(model, X_test, y_test, cv = 5).mean()\n",
        "\n",
        "    # Return the score as the objective value to be minimized by Optuna\n",
        "    return score\n",
        "\n",
        "# Create an Optuna study and optimize the objective function\n",
        "study = optuna.create_study(direction='maximize')\n",
        "study.optimize(objective, n_trials=100)\n",
        "\n",
        "# Train the final model using the best hyperparameters found by Optuna on the entire training set\n",
        "best_params = study.best_params\n",
        "best_score = study.best_value\n",
        "\n",
        "print(f\"Best parameters\", best_params)\n",
        "print(f\"Best score is \", best_score)\n",
        "\n",
        "final_model = RandomForestClassifier(max_depth=best_params['max_depth'], n_estimators=best_params['n_estimators'], min_samples_split=best_params['min_samples_split'], random_state = 43)\n",
        "final_model.fit(X_train_resampled, y_train_resampled)\n",
        "\n",
        "# Evaluate the final model on the holdout test set\n",
        "test_score = final_model.score(X_test, y_test)"
      ],
      "metadata": {
        "id": "GcFRi6YQYTbY",
        "colab": {
          "base_uri": "https://localhost:8080/"
        },
        "outputId": "bc5d93d4-8189-48bf-f795-f2d88b6775b4"
      },
      "execution_count": 48,
      "outputs": [
        {
          "output_type": "stream",
          "name": "stderr",
          "text": [
            "[I 2024-03-01 12:55:59,660] A new study created in memory with name: no-name-22882e66-3581-4843-8622-085d92b9259b\n",
            "[I 2024-03-01 12:56:05,010] Trial 0 finished with value: 0.7421800947867299 and parameters: {'max_depth': 12, 'n_estimators': 600, 'min_samples_split': 0.711296768175447, 'min_samples_leaf': 0.16125066956047596}. Best is trial 0 with value: 0.7421800947867299.\n",
            "[I 2024-03-01 12:56:09,057] Trial 1 finished with value: 0.7421800947867299 and parameters: {'max_depth': 4, 'n_estimators': 400, 'min_samples_split': 0.3849577076185441, 'min_samples_leaf': 0.33698754571266304}. Best is trial 0 with value: 0.7421800947867299.\n",
            "[I 2024-03-01 12:56:17,551] Trial 2 finished with value: 0.7421800947867299 and parameters: {'max_depth': 19, 'n_estimators': 900, 'min_samples_split': 0.4318692641547157, 'min_samples_leaf': 0.43572966236429245}. Best is trial 0 with value: 0.7421800947867299.\n",
            "[I 2024-03-01 12:56:24,787] Trial 3 finished with value: 0.7421800947867299 and parameters: {'max_depth': 31, 'n_estimators': 700, 'min_samples_split': 0.2657525390215193, 'min_samples_leaf': 0.4275834196673999}. Best is trial 0 with value: 0.7421800947867299.\n",
            "[I 2024-03-01 12:56:33,948] Trial 4 finished with value: 0.7421800947867299 and parameters: {'max_depth': 4, 'n_estimators': 1000, 'min_samples_split': 0.5096253790760699, 'min_samples_leaf': 0.2590211048352319}. Best is trial 0 with value: 0.7421800947867299.\n",
            "[I 2024-03-01 12:56:44,570] Trial 5 finished with value: 0.7421800947867299 and parameters: {'max_depth': 4, 'n_estimators': 1000, 'min_samples_split': 0.36709645699263893, 'min_samples_leaf': 0.24645971597377792}. Best is trial 0 with value: 0.7421800947867299.\n",
            "[I 2024-03-01 12:56:53,472] Trial 6 finished with value: 0.7421800947867299 and parameters: {'max_depth': 29, 'n_estimators': 900, 'min_samples_split': 0.9557048195242455, 'min_samples_leaf': 0.21479201922832836}. Best is trial 0 with value: 0.7421800947867299.\n",
            "[I 2024-03-01 12:56:59,511] Trial 7 finished with value: 0.7421800947867299 and parameters: {'max_depth': 10, 'n_estimators': 700, 'min_samples_split': 0.8132147093251035, 'min_samples_leaf': 0.18377770912869487}. Best is trial 0 with value: 0.7421800947867299.\n",
            "[I 2024-03-01 12:57:00,409] Trial 8 finished with value: 0.7421800947867299 and parameters: {'max_depth': 13, 'n_estimators': 100, 'min_samples_split': 0.6679323211327216, 'min_samples_leaf': 0.4375497442480124}. Best is trial 0 with value: 0.7421800947867299.\n",
            "[I 2024-03-01 12:57:03,752] Trial 9 finished with value: 0.7421800947867299 and parameters: {'max_depth': 8, 'n_estimators': 300, 'min_samples_split': 0.6551715380790947, 'min_samples_leaf': 0.386625316998812}. Best is trial 0 with value: 0.7421800947867299.\n",
            "[I 2024-03-01 12:57:10,264] Trial 10 finished with value: 0.7421800947867299 and parameters: {'max_depth': 2, 'n_estimators': 600, 'min_samples_split': 0.13739445367154396, 'min_samples_leaf': 0.10380691509800902}. Best is trial 0 with value: 0.7421800947867299.\n",
            "[I 2024-03-01 12:57:13,772] Trial 11 finished with value: 0.7421800947867299 and parameters: {'max_depth': 5, 'n_estimators': 400, 'min_samples_split': 0.671019583385474, 'min_samples_leaf': 0.35994094518748676}. Best is trial 0 with value: 0.7421800947867299.\n",
            "[I 2024-03-01 12:57:18,499] Trial 12 finished with value: 0.7421800947867299 and parameters: {'max_depth': 2, 'n_estimators': 400, 'min_samples_split': 0.8636711785471436, 'min_samples_leaf': 0.3081564193583785}. Best is trial 0 with value: 0.7421800947867299.\n",
            "[I 2024-03-01 12:57:20,496] Trial 13 finished with value: 0.7421800947867299 and parameters: {'max_depth': 6, 'n_estimators': 200, 'min_samples_split': 0.3247470455586931, 'min_samples_leaf': 0.16372924853024143}. Best is trial 0 with value: 0.7421800947867299.\n",
            "[I 2024-03-01 12:57:24,852] Trial 14 finished with value: 0.7421800947867299 and parameters: {'max_depth': 3, 'n_estimators': 500, 'min_samples_split': 0.5599700411250927, 'min_samples_leaf': 0.3370573955879139}. Best is trial 0 with value: 0.7421800947867299.\n",
            "[I 2024-03-01 12:57:32,369] Trial 15 finished with value: 0.7421800947867299 and parameters: {'max_depth': 15, 'n_estimators': 600, 'min_samples_split': 0.17416068648416175, 'min_samples_leaf': 0.12065826129921034}. Best is trial 0 with value: 0.7421800947867299.\n",
            "[I 2024-03-01 12:57:35,776] Trial 16 finished with value: 0.7421800947867299 and parameters: {'max_depth': 8, 'n_estimators': 400, 'min_samples_split': 0.7738349466580344, 'min_samples_leaf': 0.27827832471713004}. Best is trial 0 with value: 0.7421800947867299.\n",
            "[I 2024-03-01 12:57:41,966] Trial 17 finished with value: 0.7421800947867299 and parameters: {'max_depth': 3, 'n_estimators': 700, 'min_samples_split': 0.5173408547505691, 'min_samples_leaf': 0.49048898700670424}. Best is trial 0 with value: 0.7421800947867299.\n",
            "[I 2024-03-01 12:57:47,768] Trial 18 finished with value: 0.7421800947867299 and parameters: {'max_depth': 12, 'n_estimators': 500, 'min_samples_split': 0.4206250225433663, 'min_samples_leaf': 0.3142527643167481}. Best is trial 0 with value: 0.7421800947867299.\n",
            "[I 2024-03-01 12:57:49,459] Trial 19 finished with value: 0.7421800947867299 and parameters: {'max_depth': 20, 'n_estimators': 200, 'min_samples_split': 0.7397074860936826, 'min_samples_leaf': 0.17222183633727486}. Best is trial 0 with value: 0.7421800947867299.\n",
            "[I 2024-03-01 12:57:56,827] Trial 20 finished with value: 0.7421800947867299 and parameters: {'max_depth': 6, 'n_estimators': 800, 'min_samples_split': 0.9916515214998542, 'min_samples_leaf': 0.23672569445243175}. Best is trial 0 with value: 0.7421800947867299.\n",
            "[I 2024-03-01 12:58:04,315] Trial 21 finished with value: 0.7421800947867299 and parameters: {'max_depth': 18, 'n_estimators': 800, 'min_samples_split': 0.4341114445927365, 'min_samples_leaf': 0.48660203041636363}. Best is trial 0 with value: 0.7421800947867299.\n",
            "[I 2024-03-01 12:58:13,289] Trial 22 finished with value: 0.7421800947867299 and parameters: {'max_depth': 22, 'n_estimators': 900, 'min_samples_split': 0.25005440376805876, 'min_samples_leaf': 0.4015823051519185}. Best is trial 0 with value: 0.7421800947867299.\n",
            "[I 2024-03-01 12:58:15,958] Trial 23 finished with value: 0.7421800947867299 and parameters: {'max_depth': 10, 'n_estimators': 300, 'min_samples_split': 0.589141612393557, 'min_samples_leaf': 0.43777211279990713}. Best is trial 0 with value: 0.7421800947867299.\n",
            "[I 2024-03-01 12:58:20,350] Trial 24 finished with value: 0.7421800947867299 and parameters: {'max_depth': 16, 'n_estimators': 500, 'min_samples_split': 0.48067904472505246, 'min_samples_leaf': 0.3584643929877822}. Best is trial 0 with value: 0.7421800947867299.\n",
            "[I 2024-03-01 12:58:28,541] Trial 25 finished with value: 0.7421800947867299 and parameters: {'max_depth': 10, 'n_estimators': 800, 'min_samples_split': 0.3592947905742442, 'min_samples_leaf': 0.4655514652965985}. Best is trial 0 with value: 0.7421800947867299.\n",
            "[I 2024-03-01 12:58:33,662] Trial 26 finished with value: 0.7421800947867299 and parameters: {'max_depth': 25, 'n_estimators': 600, 'min_samples_split': 0.5934987039672224, 'min_samples_leaf': 0.39049418290108445}. Best is trial 0 with value: 0.7421800947867299.\n",
            "[I 2024-03-01 12:58:36,917] Trial 27 finished with value: 0.7421800947867299 and parameters: {'max_depth': 3, 'n_estimators': 300, 'min_samples_split': 0.23387323403737384, 'min_samples_leaf': 0.29116748474680065}. Best is trial 0 with value: 0.7421800947867299.\n",
            "[I 2024-03-01 12:58:46,200] Trial 28 finished with value: 0.7421800947867299 and parameters: {'max_depth': 13, 'n_estimators': 900, 'min_samples_split': 0.43818846892139873, 'min_samples_leaf': 0.21236565706102067}. Best is trial 0 with value: 0.7421800947867299.\n",
            "[I 2024-03-01 12:58:53,456] Trial 29 finished with value: 0.7421800947867299 and parameters: {'max_depth': 4, 'n_estimators': 700, 'min_samples_split': 0.31017146897324677, 'min_samples_leaf': 0.4100258942575279}. Best is trial 0 with value: 0.7421800947867299.\n",
            "[I 2024-03-01 12:58:57,007] Trial 30 finished with value: 0.7421800947867299 and parameters: {'max_depth': 31, 'n_estimators': 400, 'min_samples_split': 0.8968471359866279, 'min_samples_leaf': 0.33219411151815775}. Best is trial 0 with value: 0.7421800947867299.\n",
            "[I 2024-03-01 12:59:03,124] Trial 31 finished with value: 0.7421800947867299 and parameters: {'max_depth': 24, 'n_estimators': 700, 'min_samples_split': 0.25083430232188936, 'min_samples_leaf': 0.4411476520467208}. Best is trial 0 with value: 0.7421800947867299.\n",
            "[I 2024-03-01 12:59:12,761] Trial 32 finished with value: 0.7421800947867299 and parameters: {'max_depth': 18, 'n_estimators': 1000, 'min_samples_split': 0.3918739060402955, 'min_samples_leaf': 0.45644594618402606}. Best is trial 0 with value: 0.7421800947867299.\n",
            "[I 2024-03-01 12:59:21,480] Trial 33 finished with value: 0.7421800947867299 and parameters: {'max_depth': 27, 'n_estimators': 800, 'min_samples_split': 0.28349339996486145, 'min_samples_leaf': 0.2606264082224656}. Best is trial 0 with value: 0.7421800947867299.\n",
            "[I 2024-03-01 12:59:29,157] Trial 34 finished with value: 0.7421800947867299 and parameters: {'max_depth': 32, 'n_estimators': 900, 'min_samples_split': 0.4720844020196257, 'min_samples_leaf': 0.368188511334078}. Best is trial 0 with value: 0.7421800947867299.\n",
            "[I 2024-03-01 12:59:36,354] Trial 35 finished with value: 0.7421800947867299 and parameters: {'max_depth': 20, 'n_estimators': 600, 'min_samples_split': 0.19573794182105825, 'min_samples_leaf': 0.142288092111649}. Best is trial 0 with value: 0.7421800947867299.\n",
            "[I 2024-03-01 12:59:45,991] Trial 36 finished with value: 0.7421800947867299 and parameters: {'max_depth': 5, 'n_estimators': 1000, 'min_samples_split': 0.10560296260314317, 'min_samples_leaf': 0.42112854978401504}. Best is trial 0 with value: 0.7421800947867299.\n",
            "[I 2024-03-01 12:59:52,892] Trial 37 finished with value: 0.7421800947867299 and parameters: {'max_depth': 15, 'n_estimators': 700, 'min_samples_split': 0.3668795842922578, 'min_samples_leaf': 0.19566959857007674}. Best is trial 0 with value: 0.7421800947867299.\n",
            "[I 2024-03-01 12:59:57,695] Trial 38 finished with value: 0.7421800947867299 and parameters: {'max_depth': 11, 'n_estimators': 500, 'min_samples_split': 0.7167270134963251, 'min_samples_leaf': 0.3750960514671987}. Best is trial 0 with value: 0.7421800947867299.\n",
            "[I 2024-03-01 13:00:03,563] Trial 39 finished with value: 0.7421800947867299 and parameters: {'max_depth': 8, 'n_estimators': 600, 'min_samples_split': 0.5308340710420071, 'min_samples_leaf': 0.3381867334505975}. Best is trial 0 with value: 0.7421800947867299.\n",
            "[I 2024-03-01 13:00:12,027] Trial 40 finished with value: 0.7421800947867299 and parameters: {'max_depth': 26, 'n_estimators': 900, 'min_samples_split': 0.3189097697128595, 'min_samples_leaf': 0.42762414837034624}. Best is trial 0 with value: 0.7421800947867299.\n",
            "[I 2024-03-01 13:00:21,825] Trial 41 finished with value: 0.7421800947867299 and parameters: {'max_depth': 4, 'n_estimators': 1000, 'min_samples_split': 0.4802502237247025, 'min_samples_leaf': 0.24151740640328392}. Best is trial 0 with value: 0.7421800947867299.\n",
            "[I 2024-03-01 13:00:31,899] Trial 42 finished with value: 0.7421800947867299 and parameters: {'max_depth': 7, 'n_estimators': 1000, 'min_samples_split': 0.6343244400532074, 'min_samples_leaf': 0.22095189051414738}. Best is trial 0 with value: 0.7421800947867299.\n",
            "[I 2024-03-01 13:00:40,683] Trial 43 finished with value: 0.7421800947867299 and parameters: {'max_depth': 5, 'n_estimators': 800, 'min_samples_split': 0.3854545638670984, 'min_samples_leaf': 0.2624594667848392}. Best is trial 0 with value: 0.7421800947867299.\n",
            "[I 2024-03-01 13:00:49,003] Trial 44 finished with value: 0.7421800947867299 and parameters: {'max_depth': 3, 'n_estimators': 900, 'min_samples_split': 0.6304114681345551, 'min_samples_leaf': 0.14800608540788596}. Best is trial 0 with value: 0.7421800947867299.\n",
            "[I 2024-03-01 13:00:54,156] Trial 45 finished with value: 0.7421800947867299 and parameters: {'max_depth': 4, 'n_estimators': 400, 'min_samples_split': 0.5130935575232056, 'min_samples_leaf': 0.1006354192479137}. Best is trial 0 with value: 0.7421800947867299.\n",
            "[I 2024-03-01 13:01:02,668] Trial 46 finished with value: 0.7421800947867299 and parameters: {'max_depth': 2, 'n_estimators': 1000, 'min_samples_split': 0.5660344624311687, 'min_samples_leaf': 0.4679853390290851}. Best is trial 0 with value: 0.7421800947867299.\n",
            "[I 2024-03-01 13:01:03,627] Trial 47 finished with value: 0.7421800947867299 and parameters: {'max_depth': 9, 'n_estimators': 100, 'min_samples_split': 0.7066510136076812, 'min_samples_leaf': 0.295471781914117}. Best is trial 0 with value: 0.7421800947867299.\n",
            "[I 2024-03-01 13:01:10,915] Trial 48 finished with value: 0.7421800947867299 and parameters: {'max_depth': 6, 'n_estimators': 700, 'min_samples_split': 0.7990960571527745, 'min_samples_leaf': 0.34749305761511795}. Best is trial 0 with value: 0.7421800947867299.\n",
            "[I 2024-03-01 13:01:15,624] Trial 49 finished with value: 0.7421800947867299 and parameters: {'max_depth': 13, 'n_estimators': 500, 'min_samples_split': 0.18949050715207455, 'min_samples_leaf': 0.3118742425265135}. Best is trial 0 with value: 0.7421800947867299.\n",
            "[I 2024-03-01 13:01:24,596] Trial 50 finished with value: 0.7421800947867299 and parameters: {'max_depth': 17, 'n_estimators': 900, 'min_samples_split': 0.8936601325930957, 'min_samples_leaf': 0.1896794045024418}. Best is trial 0 with value: 0.7421800947867299.\n",
            "[I 2024-03-01 13:01:35,204] Trial 51 finished with value: 0.7421800947867299 and parameters: {'max_depth': 4, 'n_estimators': 1000, 'min_samples_split': 0.3372502978749686, 'min_samples_leaf': 0.2519771649672499}. Best is trial 0 with value: 0.7421800947867299.\n",
            "[I 2024-03-01 13:01:44,851] Trial 52 finished with value: 0.7421800947867299 and parameters: {'max_depth': 5, 'n_estimators': 1000, 'min_samples_split': 0.41125449072826287, 'min_samples_leaf': 0.22650261143957623}. Best is trial 0 with value: 0.7421800947867299.\n",
            "[I 2024-03-01 13:01:54,329] Trial 53 finished with value: 0.7421800947867299 and parameters: {'max_depth': 7, 'n_estimators': 900, 'min_samples_split': 0.44941682430283997, 'min_samples_leaf': 0.27636757009129365}. Best is trial 0 with value: 0.7421800947867299.\n",
            "[I 2024-03-01 13:02:02,274] Trial 54 finished with value: 0.7421800947867299 and parameters: {'max_depth': 21, 'n_estimators': 800, 'min_samples_split': 0.2729675577789405, 'min_samples_leaf': 0.4988212555549205}. Best is trial 0 with value: 0.7421800947867299.\n",
            "[I 2024-03-01 13:02:05,107] Trial 55 finished with value: 0.7421800947867299 and parameters: {'max_depth': 15, 'n_estimators': 300, 'min_samples_split': 0.34051413314255313, 'min_samples_leaf': 0.20654761428760143}. Best is trial 0 with value: 0.7421800947867299.\n",
            "[I 2024-03-01 13:02:10,659] Trial 56 finished with value: 0.7421800947867299 and parameters: {'max_depth': 29, 'n_estimators': 600, 'min_samples_split': 0.49337413949140485, 'min_samples_leaf': 0.17186359235557708}. Best is trial 0 with value: 0.7421800947867299.\n",
            "[I 2024-03-01 13:02:15,440] Trial 57 finished with value: 0.7421800947867299 and parameters: {'max_depth': 3, 'n_estimators': 400, 'min_samples_split': 0.410733679071442, 'min_samples_leaf': 0.3904262330716053}. Best is trial 0 with value: 0.7421800947867299.\n",
            "[I 2024-03-01 13:02:24,471] Trial 58 finished with value: 0.7421800947867299 and parameters: {'max_depth': 2, 'n_estimators': 900, 'min_samples_split': 0.2220166273842179, 'min_samples_leaf': 0.12040184667127556}. Best is trial 0 with value: 0.7421800947867299.\n",
            "[I 2024-03-01 13:02:30,832] Trial 59 finished with value: 0.7421800947867299 and parameters: {'max_depth': 22, 'n_estimators': 600, 'min_samples_split': 0.45475963148574333, 'min_samples_leaf': 0.32864932676532543}. Best is trial 0 with value: 0.7421800947867299.\n",
            "[I 2024-03-01 13:02:37,388] Trial 60 finished with value: 0.7421800947867299 and parameters: {'max_depth': 5, 'n_estimators': 700, 'min_samples_split': 0.3012121621505668, 'min_samples_leaf': 0.2830167975279624}. Best is trial 0 with value: 0.7421800947867299.\n",
            "[I 2024-03-01 13:02:47,184] Trial 61 finished with value: 0.7421800947867299 and parameters: {'max_depth': 28, 'n_estimators': 1000, 'min_samples_split': 0.8653948673626297, 'min_samples_leaf': 0.24079569761324554}. Best is trial 0 with value: 0.7421800947867299.\n",
            "[I 2024-03-01 13:02:57,311] Trial 62 finished with value: 0.7421800947867299 and parameters: {'max_depth': 24, 'n_estimators': 900, 'min_samples_split': 0.5460644076639501, 'min_samples_leaf': 0.15497662019898353}. Best is trial 0 with value: 0.7421800947867299.\n",
            "[I 2024-03-01 13:03:04,282] Trial 63 finished with value: 0.7421800947867299 and parameters: {'max_depth': 18, 'n_estimators': 800, 'min_samples_split': 0.9800218359141262, 'min_samples_leaf': 0.17809797450367357}. Best is trial 0 with value: 0.7421800947867299.\n",
            "[I 2024-03-01 13:03:14,200] Trial 64 finished with value: 0.7421800947867299 and parameters: {'max_depth': 30, 'n_estimators': 1000, 'min_samples_split': 0.9439652466667562, 'min_samples_leaf': 0.408418468121633}. Best is trial 0 with value: 0.7421800947867299.\n",
            "[I 2024-03-01 13:03:19,067] Trial 65 finished with value: 0.7421800947867299 and parameters: {'max_depth': 6, 'n_estimators': 500, 'min_samples_split': 0.3697158774575652, 'min_samples_leaf': 0.2666186764597408}. Best is trial 0 with value: 0.7421800947867299.\n",
            "[I 2024-03-01 13:03:27,818] Trial 66 finished with value: 0.7421800947867299 and parameters: {'max_depth': 12, 'n_estimators': 900, 'min_samples_split': 0.7725532640090278, 'min_samples_leaf': 0.2033400435358264}. Best is trial 0 with value: 0.7421800947867299.\n",
            "[I 2024-03-01 13:03:36,513] Trial 67 finished with value: 0.7421800947867299 and parameters: {'max_depth': 23, 'n_estimators': 800, 'min_samples_split': 0.6064591327168063, 'min_samples_leaf': 0.3050668657699573}. Best is trial 0 with value: 0.7421800947867299.\n",
            "[I 2024-03-01 13:03:38,452] Trial 68 finished with value: 0.7421800947867299 and parameters: {'max_depth': 32, 'n_estimators': 200, 'min_samples_split': 0.4017814205850248, 'min_samples_leaf': 0.22796949130978766}. Best is trial 0 with value: 0.7421800947867299.\n",
            "[I 2024-03-01 13:03:43,753] Trial 69 finished with value: 0.7421800947867299 and parameters: {'max_depth': 19, 'n_estimators': 600, 'min_samples_split': 0.6720296709716761, 'min_samples_leaf': 0.12728432208394141}. Best is trial 0 with value: 0.7421800947867299.\n",
            "[I 2024-03-01 13:03:46,936] Trial 70 finished with value: 0.7421800947867299 and parameters: {'max_depth': 9, 'n_estimators': 300, 'min_samples_split': 0.27078890491966284, 'min_samples_leaf': 0.45047040467614397}. Best is trial 0 with value: 0.7421800947867299.\n",
            "[I 2024-03-01 13:03:53,647] Trial 71 finished with value: 0.7421800947867299 and parameters: {'max_depth': 11, 'n_estimators': 700, 'min_samples_split': 0.8497243541275488, 'min_samples_leaf': 0.19291767685998998}. Best is trial 0 with value: 0.7421800947867299.\n",
            "[I 2024-03-01 13:04:00,123] Trial 72 finished with value: 0.7421800947867299 and parameters: {'max_depth': 16, 'n_estimators': 700, 'min_samples_split': 0.8128589951918127, 'min_samples_leaf': 0.21568715474332553}. Best is trial 0 with value: 0.7421800947867299.\n",
            "[I 2024-03-01 13:04:06,293] Trial 73 finished with value: 0.7421800947867299 and parameters: {'max_depth': 26, 'n_estimators': 600, 'min_samples_split': 0.9625762188627971, 'min_samples_leaf': 0.18215981625850958}. Best is trial 0 with value: 0.7421800947867299.\n",
            "[I 2024-03-01 13:04:16,222] Trial 74 finished with value: 0.7421800947867299 and parameters: {'max_depth': 8, 'n_estimators': 1000, 'min_samples_split': 0.9212668003354078, 'min_samples_leaf': 0.1630897577317762}. Best is trial 0 with value: 0.7421800947867299.\n",
            "[I 2024-03-01 13:04:22,857] Trial 75 finished with value: 0.7421800947867299 and parameters: {'max_depth': 14, 'n_estimators': 800, 'min_samples_split': 0.8341156825581622, 'min_samples_leaf': 0.47811546336531047}. Best is trial 0 with value: 0.7421800947867299.\n",
            "[I 2024-03-01 13:04:27,650] Trial 76 finished with value: 0.7421800947867299 and parameters: {'max_depth': 4, 'n_estimators': 500, 'min_samples_split': 0.7638586142053646, 'min_samples_leaf': 0.24841137936213345}. Best is trial 0 with value: 0.7421800947867299.\n",
            "[I 2024-03-01 13:04:35,967] Trial 77 finished with value: 0.7421800947867299 and parameters: {'max_depth': 11, 'n_estimators': 900, 'min_samples_split': 0.7334298048756644, 'min_samples_leaf': 0.37686550988744394}. Best is trial 0 with value: 0.7421800947867299.\n",
            "[I 2024-03-01 13:04:45,039] Trial 78 finished with value: 0.7421800947867299 and parameters: {'max_depth': 12, 'n_estimators': 800, 'min_samples_split': 0.43335862190252095, 'min_samples_leaf': 0.13486162981790242}. Best is trial 0 with value: 0.7421800947867299.\n",
            "[I 2024-03-01 13:04:48,521] Trial 79 finished with value: 0.7421800947867299 and parameters: {'max_depth': 20, 'n_estimators': 400, 'min_samples_split': 0.6967636513892075, 'min_samples_leaf': 0.4225870990459625}. Best is trial 0 with value: 0.7421800947867299.\n",
            "[I 2024-03-01 13:04:56,361] Trial 80 finished with value: 0.7421800947867299 and parameters: {'max_depth': 7, 'n_estimators': 700, 'min_samples_split': 0.4950671833369802, 'min_samples_leaf': 0.23061097291308166}. Best is trial 0 with value: 0.7421800947867299.\n",
            "[I 2024-03-01 13:04:58,088] Trial 81 finished with value: 0.7421800947867299 and parameters: {'max_depth': 9, 'n_estimators': 200, 'min_samples_split': 0.5744553715743859, 'min_samples_leaf': 0.4474014498244797}. Best is trial 0 with value: 0.7421800947867299.\n",
            "[I 2024-03-01 13:04:58,994] Trial 82 finished with value: 0.7421800947867299 and parameters: {'max_depth': 10, 'n_estimators': 100, 'min_samples_split': 0.6882846466033863, 'min_samples_leaf': 0.43588134035066767}. Best is trial 0 with value: 0.7421800947867299.\n",
            "[I 2024-03-01 13:04:59,898] Trial 83 finished with value: 0.7421800947867299 and parameters: {'max_depth': 14, 'n_estimators': 100, 'min_samples_split': 0.7447784781428297, 'min_samples_leaf': 0.41008088143513005}. Best is trial 0 with value: 0.7421800947867299.\n",
            "[I 2024-03-01 13:05:09,685] Trial 84 finished with value: 0.7421800947867299 and parameters: {'max_depth': 17, 'n_estimators': 1000, 'min_samples_split': 0.6368235169625225, 'min_samples_leaf': 0.47259405334272975}. Best is trial 0 with value: 0.7421800947867299.\n",
            "[I 2024-03-01 13:05:17,422] Trial 85 finished with value: 0.7421800947867299 and parameters: {'max_depth': 13, 'n_estimators': 900, 'min_samples_split': 0.5222506328148769, 'min_samples_leaf': 0.4616829508500602}. Best is trial 0 with value: 0.7421800947867299.\n",
            "[I 2024-03-01 13:05:24,688] Trial 86 finished with value: 0.7421800947867299 and parameters: {'max_depth': 10, 'n_estimators': 700, 'min_samples_split': 0.1512292215312578, 'min_samples_leaf': 0.32097701974338805}. Best is trial 0 with value: 0.7421800947867299.\n",
            "[I 2024-03-01 13:05:29,788] Trial 87 finished with value: 0.7421800947867299 and parameters: {'max_depth': 25, 'n_estimators': 600, 'min_samples_split': 0.6020517359330798, 'min_samples_leaf': 0.3987515318440523}. Best is trial 0 with value: 0.7421800947867299.\n",
            "[I 2024-03-01 13:05:40,320] Trial 88 finished with value: 0.7421800947867299 and parameters: {'max_depth': 22, 'n_estimators': 1000, 'min_samples_split': 0.3579112919366624, 'min_samples_leaf': 0.27338200774628085}. Best is trial 0 with value: 0.7421800947867299.\n",
            "[I 2024-03-01 13:05:42,217] Trial 89 finished with value: 0.7421800947867299 and parameters: {'max_depth': 28, 'n_estimators': 200, 'min_samples_split': 0.46503596026959876, 'min_samples_leaf': 0.2537769960312207}. Best is trial 0 with value: 0.7421800947867299.\n",
            "[I 2024-03-01 13:05:46,542] Trial 90 finished with value: 0.7421800947867299 and parameters: {'max_depth': 3, 'n_estimators': 500, 'min_samples_split': 0.7990532482012798, 'min_samples_leaf': 0.1650571210715555}. Best is trial 0 with value: 0.7421800947867299.\n",
            "[I 2024-03-01 13:05:50,492] Trial 91 finished with value: 0.7421800947867299 and parameters: {'max_depth': 8, 'n_estimators': 300, 'min_samples_split': 0.645542704788501, 'min_samples_leaf': 0.28638396390312665}. Best is trial 0 with value: 0.7421800947867299.\n",
            "[I 2024-03-01 13:05:53,084] Trial 92 finished with value: 0.7421800947867299 and parameters: {'max_depth': 12, 'n_estimators': 300, 'min_samples_split': 0.6638559451070747, 'min_samples_leaf': 0.4288206091199671}. Best is trial 0 with value: 0.7421800947867299.\n",
            "[I 2024-03-01 13:05:53,978] Trial 93 finished with value: 0.7421800947867299 and parameters: {'max_depth': 6, 'n_estimators': 100, 'min_samples_split': 0.717492723691949, 'min_samples_leaf': 0.34209032352232455}. Best is trial 0 with value: 0.7421800947867299.\n",
            "[I 2024-03-01 13:05:55,765] Trial 94 finished with value: 0.7421800947867299 and parameters: {'max_depth': 9, 'n_estimators': 200, 'min_samples_split': 0.5432607612456156, 'min_samples_leaf': 0.38224116335628655}. Best is trial 0 with value: 0.7421800947867299.\n",
            "[I 2024-03-01 13:06:04,640] Trial 95 finished with value: 0.7421800947867299 and parameters: {'max_depth': 8, 'n_estimators': 800, 'min_samples_split': 0.42720924236826097, 'min_samples_leaf': 0.20136761481362234}. Best is trial 0 with value: 0.7421800947867299.\n",
            "[I 2024-03-01 13:06:08,030] Trial 96 finished with value: 0.7421800947867299 and parameters: {'max_depth': 14, 'n_estimators': 400, 'min_samples_split': 0.9995173176923839, 'min_samples_leaf': 0.36244655725888614}. Best is trial 0 with value: 0.7421800947867299.\n",
            "[I 2024-03-01 13:06:12,232] Trial 97 finished with value: 0.7421800947867299 and parameters: {'max_depth': 5, 'n_estimators': 500, 'min_samples_split': 0.38671453232434977, 'min_samples_leaf': 0.41561323653269655}. Best is trial 0 with value: 0.7421800947867299.\n",
            "[I 2024-03-01 13:06:17,088] Trial 98 finished with value: 0.7421800947867299 and parameters: {'max_depth': 11, 'n_estimators': 400, 'min_samples_split': 0.3357702861053672, 'min_samples_leaf': 0.39685189576402724}. Best is trial 0 with value: 0.7421800947867299.\n",
            "[I 2024-03-01 13:06:22,680] Trial 99 finished with value: 0.7421800947867299 and parameters: {'max_depth': 4, 'n_estimators': 600, 'min_samples_split': 0.2984912110126775, 'min_samples_leaf': 0.21389157008663554}. Best is trial 0 with value: 0.7421800947867299.\n"
          ]
        },
        {
          "output_type": "stream",
          "name": "stdout",
          "text": [
            "Best parameters {'max_depth': 12, 'n_estimators': 600, 'min_samples_split': 0.711296768175447, 'min_samples_leaf': 0.16125066956047596}\n",
            "Best score is  0.7421800947867299\n"
          ]
        }
      ]
    },
    {
      "cell_type": "code",
      "source": [
        "print(round(test_score, 2))"
      ],
      "metadata": {
        "colab": {
          "base_uri": "https://localhost:8080/"
        },
        "id": "9YqyFHt7530d",
        "outputId": "0ec25021-a489-4b3e-9b30-2ab835dc2d10"
      },
      "execution_count": 51,
      "outputs": [
        {
          "output_type": "stream",
          "name": "stdout",
          "text": [
            "0.74\n"
          ]
        }
      ]
    },
    {
      "cell_type": "markdown",
      "source": [
        "Optuna hyperparameter tuning seems to be counter efficient."
      ],
      "metadata": {
        "id": "d-_DVR5pDsLj"
      }
    }
  ],
  "metadata": {
    "colab": {
      "provenance": [],
      "gpuType": "T4"
    },
    "kernelspec": {
      "display_name": "Python 3",
      "name": "python3"
    },
    "language_info": {
      "codemirror_mode": {
        "name": "ipython",
        "version": 3
      },
      "file_extension": ".py",
      "mimetype": "text/x-python",
      "name": "python",
      "nbconvert_exporter": "python",
      "pygments_lexer": "ipython3",
      "version": "3.10.5"
    },
    "accelerator": "GPU"
  },
  "nbformat": 4,
  "nbformat_minor": 0
}